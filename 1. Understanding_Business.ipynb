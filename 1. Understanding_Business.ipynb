{
 "cells": [
  {
   "cell_type": "markdown",
   "metadata": {},
   "source": [
    "# Understanding the Business"
   ]
  },
  {
   "cell_type": "markdown",
   "metadata": {},
   "source": [
    "### Nombre de la Empresa: Federación Colombiana de Esgrima\n",
    "\n",
    "La Federación Colombiana de Esgrima es el ente rector de la Esgrima a nivel nacional, encargada de la planificación, administración, promocion y desarrollo del deporte de la esgrima en Colombia, a través de la gestion de recursos publicos y privados, para llevar a los esgrimsitas colombianos a conseguir los mas altos logros y resultados deportivos a nivel internacional."
   ]
  },
  {
   "cell_type": "markdown",
   "metadata": {},
   "source": [
    "### Objetivos de la Organización\n",
    "\n",
    "Lograr los mejores resultados deportivos a nivel mundial\n",
    "\n",
    "* Indentificar los atletas con el mejor estado deportivo en el momento para mejorar procesos de selección\n",
    "* Identificar a los deportistas con mayor talento y proyección\n",
    "* Mejorar los procesos de preparacion y competencia de los atletas\n",
    "* Desarrollar el deporte a nivel nacional aumentando la oferta y cobertura territorial\n",
    "\n",
    "    "
   ]
  },
  {
   "cell_type": "markdown",
   "metadata": {},
   "source": [
    "### Objetivos de Data Mining\n",
    "\n",
    "1. Proyectar los resultados y rendimiento deportivo de los deportistas a nivel nacional para optimizar las decisiones deportivas y administrativas y ver si se pueden predecir rendimientos futuros\n",
    "2. Un modelo que basado en las caracteristicas de la poblacion esgrimista, identifique los lugares con mayor potencial para el desarrollo del deporte o para crear y abrir un club de esgrima\n",
    "3. Diseñar una herramienta de análisis de video de los combates"
   ]
  },
  {
   "cell_type": "markdown",
   "metadata": {},
   "source": [
    "## Preguntas Claves\n",
    "\n",
    "#### From a business perspective:\n",
    "* <font color='red'>What does your business hope to gain from this project?</font>\n",
    "\n",
    "Optimizar los procesos de toma de decisiones deportivas y administrativas en razón a inversion de recursos (tiempo, dinero, recurso humano, etc.)\n",
    "\n",
    "* <font color='red'>How will you define the successful completion of our efforts?</font>\n",
    "\n",
    "Tener la posibilidad de ver entre varios esgrimsitas a quien tiene mayores posibilidades de obtener un mejor resultado en la competencia siguiente permitirá a la organización tomar desiciones tecnicas y administrativas de a que deportista apoyar par ir a competir a una competencia futura\n",
    "\n",
    "* <font color='red'>Do you have the budget and resources needed to reach our goals?</font>\n",
    "\n",
    "Estoy contratado para ello. A su vez, tengo el contacto con personal tecnico para apoyar la creacion de la herramienta y el apoyo institucional. No obstante, la organizacion no tiene presupuesto para la contratacion adicional de personal que pueda apoyar los procesos de analisis de datos\n",
    "\n",
    "* <font color='red'>Do you have access to all the data needed for this project?</font>\n",
    "\n",
    "Si, se tiene acceso a toda la base de datos de deportistas afiliados a la federacion y a los resultados deportivos desde el 2017 que se empezó a llevar sistematizado los resultados de competencias nacionales. Por otra Parte, los resultados de competencias internacionales estan publicados en portales web de libre acceso para su verificacion y análisis.\n",
    "\n",
    "* <font color='red'>Have you and your team discussed the risks and contingencies associated with this project?</font>\n",
    "\n",
    "Los riesgos principales son el desarrollo de una herramienta que no logre ser funcional para los tecnicos y comité ejecutivo en su toma de desiciones, de ahi la importancia no solo de que arroje informacion valiosa, sino que tambien pueda ser divulgada o visualizada en forma sencilla y entendible para terceros que no tengan conocimientos de ciencia de datos; puesto que si los resultados y reportes conseguidos no son de facil entendimiento no se utilizaran y el trabajo será perdido.\n",
    "\n",
    "* <font color='red'>Do the results of your cost/benefit analysis make this project worthwhile?</font>\n",
    "\n",
    "Si, Sería una herramienta importante que aportaria a mejorar los procesos deportivos de los atletas, los procesos de seleccion administrativa, optimizando los recursos de la organizacion y facilitando el desarrollo deportivo nacional. Adicionalmente, permitirá optimizar los tiempos dedicados por el funcionario encargado en entregar reportes y proyecciones.\n",
    "\n",
    "#### From a data mining perspective:\n",
    "\n",
    "* <font color='red'>How specifically can data mining help you meet your business goals?</font>\n",
    "\n",
    "Al crear herramientas de visualización y modelos de predicción podria ayudar al personal técnico y administrativo en sus desiciones.\n",
    "\n",
    "* <font color='red'>Do you have an idea about which data mining techniques might produce the best results?</font>\n",
    "\n",
    "Por el momento no, sera necesario ver los datos como se podran organizar para llegar a una solucion a la problematica de la empresa. \n",
    "\n",
    "Porque podira generarse un modelo que prediga la posicion final del esgrimista en la siguiente competencia basado en sus resultados hsitoricos.\n",
    "\n",
    "Otra opcion podria ser, basado en los enfrentamientos mano a mano del esgrimsita con los rivales y en otras variables de los resultados de las competencias, realizar simulaciones de la competencia futura y ver que resultado es el esperado. \n",
    "\n",
    "* <font color='red'>How will you know when your results are accurate or effective enough? (Have we set a measurement of data mining success?)</font>\n",
    "\n",
    "Al realizar un modelo de prediccion de posicion final o ronda alcanzada en la competencia futura, se podria comparar los resultados obtenidos en la prediccion con los obtenidos en realidad y observar el error en la prediccion:\n",
    "\n",
    "- 99% de prediccion de ronda alcanzada\n",
    "- 90% de predicción de puesto final\n",
    "\n",
    "* <font color='red'>How will the modeling results be deployed? Have you considered deployment in your project plan?</font>\n",
    "\n",
    "Por ahora se está diseñando una pagina web donde se inicio realizando un Dashboard para visualizacion de resultados deportivos, en donde en la misma pagina se podria publicar los resultados del proyecto\n",
    "\n",
    "* <font color='red'>Does the project plan include all phases of CRISP-DM?</font>\n",
    "\n",
    "Si\n",
    "\n",
    "* <font color='red'>Are risks and dependencies called out in the plan?</font>\n",
    "\n",
    "Si"
   ]
  },
  {
   "cell_type": "markdown",
   "metadata": {},
   "source": [
    "------------------------------------------------------------------\n",
    "### Compiling the Business Background\n",
    "\n",
    "##### Determine Organizational Structure\n",
    "<font color='blue'> * Develop organizational charts to illustrate corporate divisions, departments, and project groups. Be sure to include managers’ names and responsibilities.\n",
    "\n",
    "La organizacion esta compuesta por un comité ejecutivo, unas comisiones asesoras (comision tecnica, comision de juzgamiento, comision de disciplina, comision de desarrollo deportivo), una revisoria fiscal, asesoria legal, y tiene en su parte operativa dos divisiones, una adminsitrativa y una dpeortiva.\n",
    "\n",
    "En la adminsitrativa se encuentra un director adimisntrativo, coordinador de logistico deportivo, area contable y comunicaciones-redes sociales\n",
    "\n",
    "En la area deportiva se encuentra un Director Técnico Nacional, encargado de orientar todos los procesos deportivos y 3 entrenadores nacionales uno para cada Arma/Modalidad (Espada, Florete, Sable)\n",
    "\n",
    "<font color='blue'> * Identify key individuals in the organization.\n",
    "\n",
    "- Lucas Stucky, encargado del desrrollo e innovacion de la organización\n",
    "    \n",
    "- Director Técnico, Encargado de las desiciones deportivas y experto en el area especifica de la esgrima y los rendimientos deportivos en esgrima\n",
    "\n",
    "<font color='blue'> * Identify an internal sponsor who will provide financial support and/or domain expertise.\n",
    "    \n",
    "La presidente de la organización, tiene en su vision mejorar y optimizar los procesos deportivos a traves de herramientas y soluciones tecnologicas.\n",
    "    \n",
    "<font color='blue'> * Determine whether there is a steering committee and procure a list of members.\n",
    "\n",
    "No lo hay.    \n",
    "    \n",
    "<font color='blue'> * Identify business units that will be affected by the data mining project.\n",
    "    \n",
    "Comisiones técnicas de mayores e infantil, comité directivo    "
   ]
  },
  {
   "cell_type": "markdown",
   "metadata": {},
   "source": [
    "##### Describe Problem Area\n",
    "* Identify the problem area, such as marketing, customer care, or business development.\n",
    "* Describe the problem in general terms.\n",
    "\n",
    "Los procesos deportivos y el area del deporte en las organizaciones deportivas nacionales tienden a ser poco formales y de corte empirico. En parte por la formación profesional de los empleados y funcionarios de estas organizaciones, consecuencia de los modelos empresariales que poseen y que posee el sistema nacional del deporte. Un sistema basado en el trabajo voluntario de personas interesadas en desarrollar el deporte y a las limitaciones economicas de las organizaciones deportivas.\n",
    "\n",
    "Ahora bien, es evidente a nivel mundial que la tecnologia cada vez está más inmersa en los procesos de preparación y competencia en el deporte y organizaciones deportivas. Por lo cual, es importante e imprescindible para el deporte colombiano en todos sus niveles ir a la par de lo que hacen las potencias mundiales, e incluir en sus procesos deportivos y administrativos las mejores practicas, para continuar mejorando los resultados deportivos conseguidos en los ultimos años.\n",
    "\n",
    "Por ello, incluir la ciencia de datos en los procesos de preparación y competencia de los atletas es un elemento que deben empezar a utilizar las organizaciones deportivas en Colombia a todo nivel, para el beneficio en primer lugar de los atletas y de todos los actores involucrados  unverso deportivo nacional.\n",
    "\n",
    "\n",
    "* Clarify the prerequisites of the project. What are the motivations behind the project? Does the business already use data mining?\n",
    "\n",
    "La organización ha recibido algunas quejas por parte de los usuarios en cuanto a los procesos de seleccion deportiva, por lo cual la administración actual tiene el objetivo de mejorar esos procesos, volviendolos mas transparentes y objetivos.\n",
    "\n",
    "* Check on the status of the data mining project within the business group. Has the effort been approved, or does data mining need to be “advertised” as a key technology for the business group?\n",
    "\n",
    "La iniciativa ya ha sido aprobada por la presidencia y el personal tecnico de la Federación\n",
    "\n",
    "* If necessary, prepare informational presentations on data mining to your organization\n",
    "\n",
    "Ya se han realizado conferencias y presentaciones sobre la importancia de la ciencia de datos en el deporte y los procesos deportivos, resaltando sus beneficios y aplicaciones. La comunidad en cierto grado es receptiva, no obstante, se deberá socializar y capacitar a los técnicos y comunidad en general sobre el uso de las herramientas creadas mediante este proyecto."
   ]
  },
  {
   "cell_type": "markdown",
   "metadata": {},
   "source": [
    "##### Describe Current Solution\n",
    "\n",
    "<font color='blue'> * Describe any solutions currently used to address the business problem.\n",
    "\n",
    "EL seguimiento a los resultados y rendimientos deportivos de los atletas ha ido desarrollandose en el último tiempo en la organización. Inicialmente se llevaba un control y registro en cuadernos fisico a mano, luego se fue mejorando el seguimiento deportivo sistematizandolo a excel y luego en una plataforma web. \n",
    "\n",
    "Las proyecciones de resultados siempre las han realizado los entrenadore y director tecnico basandose en esu esperiencia y experticia deportiva, no han tenido un respaldo estadistico ni algun modelo estructurado que los apoye en esos procesos.\n",
    "\n",
    "<font color='blue'> * Describe the advantages and disadvantages of the current solution. Also, address the level of acceptance this solution has had within the organization.\n",
    "\n",
    "Las soluciones digitales han tenido algo de resistencia dentro de la organización puesto que en ocasiones las personas tienen algunos temores:\n",
    "\n",
    "- Perder el puesto de trabajo\n",
    "- No tener el conocimiento para utilizar las herramientas que pueda dejar en evidencia algun tipo de limitación tecnica o de conocimiento\n",
    "- Perder el poder de decision\n",
    "\n",
    "Estas dificultades se pueden solventar mediante un trabajo de sensibilizacion con los entrenadores y tecnicos para que vean las soluciones no como una competencia a su trabajo sino como una herramienta adicional que les permita desepeñar su labor de la mejor manera. En el momento en el que se dan cuenta de la utilidad y de que son recursos valioso para su trabajo, que les optimizan tiempo y mejoran sus resultados en el trabajo, las aceptan y utilizan. Sin embargo, es un proceso en ocasiones lento y paciente."
   ]
  },
  {
   "cell_type": "markdown",
   "metadata": {},
   "source": [
    "##### Defining Business Objectives\n",
    "\n",
    "<font color='blue'> * Describe the problem you want to solve using data mining.\n",
    "    \n",
    "Encontrar una forma de proyectar los resultados deportivos de atletas consolidados y en desarrollo para tomar mejores desiciones administrativas y deportivas\n",
    "    \n",
    "<font color='blue'> * Specify all business questions as precisely as possible.\n",
    "\n",
    "* Saber que resultado va a tener un esgrimista en la proxima competencia\n",
    "* Conocer con cuales rivales de la fase de grupos de la competencia va a tener mayores dificultades para prepararlos combates con anterioridad.\n",
    "    \n",
    "<font color='blue'> * Determine any other business requirements (such as not losing any existing customers while increasing cross-sell opportunities).\n",
    "\n",
    "Identificar los atletas con mejor actualidad deportiva sin perder a los atletas con no tan buen presente pero con un gran potencial futuro. para diseñar estrategias con ambos grupos para explotar de la mejor manera las posibilidades de cada esgrimsita    \n",
    "    \n",
    "<font color='blue'> * Specify expected benefits in business terms (such as reducing churn among high-value customers by 10%)\n",
    "\n",
    "    \n",
    "    \n",
    "##### Business Success Criteria\n",
    "\n",
    "<font color='blue'> * As precisely as possible, document the success criteria for this project.\n",
    "    \n",
    "Conocer el resultado esperado que tendran los esgrimista en una competencias futura\n",
    "    \n",
    "<font color='blue'> * Make sure each business objective has a correlative criterion for success.\n",
    "    \n",
    "<font color='blue'> * Align the arbiters of the subjective measurements of success. If possible, take notes on their expectations"
   ]
  },
  {
   "cell_type": "markdown",
   "metadata": {},
   "source": [
    "#### Assessing the Situation\n",
    "\n",
    "<font color='blue'> * What sort of data are available for analysis?\n",
    "\n",
    "Se tienen los datos de informacion de los deportistas afiliados a la FCE, tambien los resultados de las competencias nacionales y en las paginas de internet de la FIE y otras paginas existen los resultados deportivos de competencias internacionales\n",
    "\n",
    "<font color='blue'> * Do you have the personnel needed to complete the project?\n",
    "\n",
    "Solo se cuenta con mi tiempo y soy el unico encargado en el proyecto\n",
    "    \n",
    "<font color='blue'> * What are the biggest risk factors involved?\n",
    "    \n",
    "Los factores de riesgo son que se desarrolle una herramienta o sistema que no pueda ser utilizado o entendido por los tecnicos y que al final no se utilice, perdiendo el tiempo y trabajo realizado.\n",
    "    \n",
    "<font color='blue'> * Do you have a contingency plan for each risk?\n",
    "    \n",
    "Es necesario diseñar una forma de interacción facil de entender y manejar para los tecnicos y entrenadores, y que asi tengan acceso facil a la información, predicciones y análisis."
   ]
  },
  {
   "cell_type": "markdown",
   "metadata": {},
   "source": [
    "#### Resource Inventory\n",
    "\n",
    "##### Research Hardware Resources\n",
    "\n",
    "<font color='blue'> * What hardware do you need to support?\n",
    "    \n",
    "N/A\n",
    "\n",
    "##### Identify Data Sources and Knowledge Stores\n",
    "\n",
    "<font color='blue'> * Which data sources are available for data mining? Take note of data types and formats.\n",
    "\n",
    "Esta la informacion de esgrimistas y resultados nacionales, los cuales pueden ser descargados en formato excel, como tambien se han parametrizado para scrapping directo via Python. \n",
    "\n",
    "Los resultados internacionales pueden encontrarse en las paginas web de Fencing Time, Engarde, Fencing World Wide y la Federación Internacional de Esgrima (FIE).\n",
    "    \n",
    "<font color='blue'> * How are the data stored? Do you have live access to data warehouses or operational databases?\n",
    "    \n",
    "Los datos nacionales se encuentran en bases de datos a las que se tiene acceso sin problema. Los datos internacionales se encuentran en portales web de libre acceso, no estan disponibles para descarga en archivos tipo CSV y otros, por lo que sería necesario realizar un Scrapping desde que la pagina lo permita o copiar manualmente los datos, no obstante, esta opción tiene un coste de tiempo muy alto.\n",
    "    \n",
    "<font color='blue'> * Do you plan to purchase external data, such as demographic information?\n",
    "    \n",
    "No\n",
    "    \n",
    "<font color='blue'> * Are there any security issues preventing access to required data?\n",
    "    \n",
    "No\n",
    "\n",
    "##### Identify Personnel Resources\n",
    "\n",
    "<font color='blue'> * Do you have access to business and data experts?\n",
    "\n",
    "Si, Se tiene contacto con la empresa que maneja las bases de datos de la FCE y se cuenta con acceso al personal tecnico especializado en el deporte\n",
    "    \n",
    "<font color='blue'> * Have you identified database administrators and other support staff that may be needed?\n"
   ]
  },
  {
   "cell_type": "markdown",
   "metadata": {},
   "source": [
    "#### Requirements, Assumptions, and Constraints\n",
    "##### Determine Requirements\n",
    "The fundamental requirement is the business goal discussed earlier, but consider the following:\n",
    "* Are there security and legal restrictions on the data or project results?\n",
    "* Is everyone aligned on the project scheduling requirements?\n",
    "* Are there requirements on results deployment (for example, publishing to the Web or reading scores into a database)\n",
    "\n",
    "##### Clarify Assumptions\n",
    "* Are there economic factors that might affect the project (for example, consulting fees or competitive products)?\n",
    "* Are there data quality assumptions?\n",
    "* How does the project sponsor/management team expect to view the results? In other words, do they want to understand the model itself or simply view the results?\n",
    "\n",
    "##### Verify Constraints\n",
    "* Do you have all passwords required for data access?\n",
    "\n",
    "Si\n",
    "\n",
    "* Have you verified all legal constraints on data usage?\n",
    "\n",
    "No\n",
    "\n",
    "* Are all financial constraints covered in the project budget?\n",
    "\n",
    "No hay presupuesto asignado."
   ]
  },
  {
   "cell_type": "markdown",
   "metadata": {},
   "source": [
    "#### Risks and Contingencies\n",
    "* Document each possible risk.\n",
    "* Document a contingency plan for each risk."
   ]
  },
  {
   "cell_type": "markdown",
   "metadata": {},
   "source": [
    "#### Terminology\n",
    "* Keep a list of terms or jargon confusing to team members. Include both business and data mining terminology.\n",
    "* Consider publishing the list on the intranet or in other project documentation"
   ]
  },
  {
   "cell_type": "markdown",
   "metadata": {},
   "source": [
    "#### Cost/Benefit Analysis\n",
    "\n",
    "Include in your analysis estimated costs for:\n",
    "* Data collection and any external data used\n",
    "* Results deployment\n",
    "* Operating costs\n",
    "\n",
    "Then, take into account the benefits of:\n",
    "* The primary objective being met\n",
    "* Additional insights generated from data exploration\n",
    "* Possible benefits from better data understanding"
   ]
  },
  {
   "cell_type": "markdown",
   "metadata": {},
   "source": [
    "### Determining Data Mining Goals\n",
    "\n",
    "#### Data Mining Goals\n",
    "\n",
    "* Describe the type of data mining problem, such as clustering, prediction, or classification.\n",
    "* Document technical goals using specific units of time, such as predictions with a three-month validity.\n",
    "* If possible, provide actual numbers for desired outcomes, such as producing churn scores for 80% of existing customers\n",
    "\n",
    "#### Data Mining Success Criteria\n",
    "\n",
    "* Describe the methods for model assessment (for example, accuracy, performance, etc.).\n",
    "* Define benchmarks for evaluating success. Provide specific numbers.\n",
    "* Define subjective measurements as best you can and determine the arbiter of success.\n",
    "* Consider whether the successful deployment of model results is part of data mining success. Start planning now for deployment."
   ]
  },
  {
   "cell_type": "markdown",
   "metadata": {},
   "source": [
    "### Producing a Project Plan\n",
    "\n",
    "#### Writing the Project Plan\n",
    "\n",
    "* <font color='red'>Have you discussed the project tasks and proposed plan with everyone involved?</font>\n",
    "    \n",
    "* <font color='red'>Are time estimates included for all phases or tasks?</font>\n",
    "    \n",
    "* <font color='red'>Have you included the effort and resources needed to deploy the results or business solution?</font>\n",
    "    \n",
    "* <font color='red'>Are decision points and review requests highlighted in the plan?</font>\n",
    "    \n",
    "* <font color='red'>Have you marked phases where multiple iterations typically occur, such as modeling?</font>\n",
    "\n",
    "<font color='red'>#### Sample Project Plan\n",
    "\n",
    "Phase | Time | Resources | Risks\n",
    "------|------|-----------|-----"
   ]
  },
  {
   "cell_type": "markdown",
   "metadata": {},
   "source": [
    "<font color='red'>bar</font>"
   ]
  },
  {
   "cell_type": "markdown",
   "metadata": {},
   "source": []
  },
  {
   "cell_type": "code",
   "execution_count": null,
   "metadata": {},
   "outputs": [],
   "source": []
  }
 ],
 "metadata": {
  "kernelspec": {
   "display_name": "Python 3",
   "language": "python",
   "name": "python3"
  },
  "language_info": {
   "codemirror_mode": {
    "name": "ipython",
    "version": 3
   },
   "file_extension": ".py",
   "mimetype": "text/x-python",
   "name": "python",
   "nbconvert_exporter": "python",
   "pygments_lexer": "ipython3",
   "version": "3.8.5"
  }
 },
 "nbformat": 4,
 "nbformat_minor": 4
}
