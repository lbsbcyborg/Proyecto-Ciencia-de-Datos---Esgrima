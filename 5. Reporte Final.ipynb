{
 "cells": [
  {
   "cell_type": "markdown",
   "metadata": {},
   "source": [
    "# 5. Reporte Final"
   ]
  },
  {
   "cell_type": "markdown",
   "metadata": {},
   "source": [
    "## Introducción\n",
    "\n",
    "\n",
    "\n",
    "En el presente proyecto busco aportar en el proceso de aprendizaje de técnicas y movimientos corporales.\n",
    "\n",
    "En el ámbito deportivo, y para este caso del deporte de la esgrima, un componente esencial es el aprendizaje de técnicas y/o movimientos corporales propios del deporte. \n",
    "\n",
    "Históricamente el proceso de enseñanza y aprendizaje de movimientos corporales ha estado siempre asociado a la interacción maestro alumno en encuentros sincrónicos en persona. Ahora bien, con la emergencia sanitaria desencadenada por el covid 19 y las restricciones y aislamientos obligatorios, los procesos de enseñanza de gestos deportivos tuvieron y han tenido que trasladarse y adaptarse a la virtualidad y a la interacción del alumno con el maestro o material de enseñanza por medios digitales. Sin embargo, es evidente que la interacción maestro- alumno o alumno-material digital, limita el proceso de enseñanza y aprendizaje puesto que carece de la corrección y retroalimentación inmediata por parte del maestro ante la ejecuciones del alumno.\n",
    "\n",
    " A razón de lo anterior, como solución al problema de aprendizaje por medios digitales de técnicas y movimientos corporales, se propuso el diseño y la implementación de un modelo de identificación y predicción de posturas corporales en el arbitraje de esgrima con el fin de facilitar y posibilitar la corrección y retroalimentación de las ejecuciones por parte del alumno a través de la interacción con el modelo y sus predicciones.\n",
    "\n",
    "Al final del proyecto se consiguió diseñar una herramienta de practica de posturas y señas arbitrales de manera autónoma por parte del alumno, donde en conexión con la webcam del computador puede ejecutar sus movimientos y el modelo va prediciendo el movimiento ejecutado y de esta manera el alumno ir aprendiendo y ajustando sus movimientos.\n",
    "\n",
    "\n",
    "## Diseño y construcción del modelo\n",
    "\n",
    "La construcción del modelo de predicción se realizó con:\n",
    "\n",
    "* Modelo de estimación de puntos corporales de MediaPipe\n",
    "* Red neuronal de clasificación de posturas y movimientos corporales\n",
    "\n",
    "El proceso que se llevó a cabo fue el siguiente:\n",
    "\n",
    "1. En primer lugar se utilizó el modelo de estimación de puntos corporales de MediaPipe para estimar la postura corporal de la persona. Este modelo de estimación permitió recolectar las coordenadas de los puntos a lo largo de la secuencia de movimiento para el proceso de entrenamiento de la Red Neuronal. También es utilizado para estimar y capturar la postura corporal y los movimientos que realiza el alumno en la practica en tiempo real para ser predichos por la red neuronal de clasificación.\n",
    "\n",
    "\n",
    "2. Con ayuda del modelo de MediaPipe, se realizó la recolección de los datos para el entrenamiento. Se capturaron las coordenadas de los diferentes puntos a través de la secuencia de movimientos (30 frames) de videos de ejecuciones correctas de las señas de arbitraje de esgrima. En total se recolectaron 50 secuencias (videos) de 30 imágenes (frames) para cada una de las 16 señas arbitrales incluidas en el proyecto basadas en el reglamento de arbitraje de la Federación Internacional de Esgrima.\n",
    "\n",
    "\n",
    "3. Con los datos recolectados se construyó y entrenó una Red neuronal LSTM para la clasificación de las señas. A la red neuronal ingresan secuencias de 30 frames que constan de 258 valores asociados con las coordenadas X, Y y Z de los distintos puntos corporales y su variación en esas coordenadas a través de cada frame.\n",
    "\n",
    "\n",
    "4. Al contar con 16 señas de arbitraje de esgrima, dentro de las cuales existen algunas similitudes de movimiento entre varias señas, se decidió dividir el grupo de señas en 2, generando 2 modelos con 8 señas a identificar, para facilitar el proceso predicción y optimizar el funcionamiento de los modelos en al interacción con el usuario final. Las señas incluidas en el primero y segundo grupo fueron:\n",
    "\n",
    "    Primer grupo:\n",
    "\n",
    "    * punta en linea\n",
    "    * ataque\n",
    "    * tocado\n",
    "    * no valido\n",
    "    * parada\n",
    "    * tocado doble\n",
    "    * nada\n",
    "    * listos\n",
    "\n",
    "    Segundo Grupo:\n",
    "\n",
    "    * adelante\n",
    "    * enguardia\n",
    "    * punto izquierda\n",
    "    * punto doble\n",
    "    * no\n",
    "    * incorrecto\n",
    "    * alto\n",
    "    * simultaneo\n",
    "\n",
    "\n",
    "5.  Se realizó una partición de los datos en Train y Test para validar la precisión de los modelos. Los 2 modelos presentaron luego de entrenamiento una precisión en los datos de Test superior al 95% el cual representaba el indicador de éxito del proceso."
   ]
  },
  {
   "cell_type": "markdown",
   "metadata": {},
   "source": [
    "## Lanzamiento del modelo y herramienta de interacción con el usuario\n",
    "\n",
    "\n",
    "Para la fase final del proyecto que buscaba la interacción del usuario/alumno con el modelo para practicar las diferentes señas arbitrales. Se diseño un web app que permite al usuario a través de su cámara del dispositivo conectado realizar los diferentes movimientos y el modelo en tiempo real va prediciendo las acciones ejecutadas por el alumno y su precisión en el movimiento. \n",
    "\n",
    "El funcionamiento de la herramienta es el siguiente:\n",
    "\n",
    "* En la parte inferior de la pantalla el alumno recibe la indicación de que seña debe realizar.\n",
    "* En la parte de la derecha puede ver de todas las señas posibles cual es la predicción actual de cada postura y así ir verificando si esta realizando el movimiento adecuado o no\n",
    "* En la parte superior, se encuentra la seña que tiene mayor probabilidad en ese instante y su valor de precisión.\n",
    "\n",
    "\n",
    "En el momento en que el modelo predice con una precisión de 1.00 la seña solicitada, al ser correcta la ejecución el aplicativo cambia la seña solicitada por otra de manera aleatoria. De esta manera la persona puede ir practicando las diferentes señas e ir recibiendo en tiempo real la corrección y retroalimentación adecuada a sus movimientos y ejecuciones.\n",
    "\n",
    "En el siguiente video se muestra el funcionamiento del aplicativo:"
   ]
  },
  {
   "cell_type": "code",
   "execution_count": 1,
   "metadata": {},
   "outputs": [
    {
     "data": {
      "text/html": [
       "<video src=\"img/webapp.mp4\" controls  >\n",
       "      Your browser does not support the <code>video</code> element.\n",
       "    </video>"
      ],
      "text/plain": [
       "<IPython.core.display.Video object>"
      ]
     },
     "execution_count": 1,
     "metadata": {},
     "output_type": "execute_result"
    }
   ],
   "source": [
    "from IPython.display import Video\n",
    "Video('img/webapp.mp4') "
   ]
  },
  {
   "cell_type": "markdown",
   "metadata": {},
   "source": [
    "## Conclusiones y consideraciones finales\n",
    "\n",
    "\n",
    "1. El uso de modelos de estimación de postura y redes neuronales de clasificación funcionan para la identificación de posturas y movimientos corporales\n",
    "\n",
    "\n",
    "2. Los modelos construidos podrán ayudar y aportar en los procesos de aprendizaje de las señas arbitrales en esgrima y podrán apoyar de manera directa las actividades de enseñanza virtual de la Federación Colombiana de Esgrima.\n",
    "\n",
    "\n",
    "3. No obstante los modelos logran predecir de manera acertada los movimientos del usuario, estos podrían y deberían se mejorados para la identificación exacta de los movimientos realizados por la persona aun en ejecuciones de señas muy similares y con pequeñas variaciones en solo algunos puntos corporales. Para ello, es posible que sea necesario la recolección de un mayor numero de datos y secuencias de movimientos para el entrenamiento de los modelos, especialmente en diferentes condiciones de ángulos, distancias y magnitud de la persona.\n",
    "\n",
    "\n",
    "4. Por último, se recomienda mejorar la aplicación web a través de la cual interactúan los usuarios con los modelos con el fin de que sean herramientas amigables al usuario y ajustadas a favorecer los procesos de aprendizaje con el fin de que sean utilizadas en los proyectos y programas de la FCE, y puedan tener un impacto real el los procesos de formación y capacitación de jueces de esgrima por parte de la Federación"
   ]
  },
  {
   "cell_type": "markdown",
   "metadata": {},
   "source": [
    "### Bibliografía\n",
    "\n",
    "1. MediaPipe Documentation. 2021 https://google.github.io/mediapipe/solutions/pose.html\n",
    "\n",
    "2. Nicholas Renotte. ActionDetectionforSignLanguage. 2021. https://github.com/nicknochnack/ActionDetectionforSignLanguage\n",
    "\n",
    "3. International Fencing Federation. Reglamento técnico 2021. https://fie.org/fie/documents/rules"
   ]
  },
  {
   "cell_type": "code",
   "execution_count": null,
   "metadata": {},
   "outputs": [],
   "source": []
  }
 ],
 "metadata": {
  "kernelspec": {
   "display_name": "Python 3",
   "language": "python",
   "name": "python3"
  },
  "language_info": {
   "codemirror_mode": {
    "name": "ipython",
    "version": 3
   },
   "file_extension": ".py",
   "mimetype": "text/x-python",
   "name": "python",
   "nbconvert_exporter": "python",
   "pygments_lexer": "ipython3",
   "version": "3.8.10"
  }
 },
 "nbformat": 4,
 "nbformat_minor": 4
}
