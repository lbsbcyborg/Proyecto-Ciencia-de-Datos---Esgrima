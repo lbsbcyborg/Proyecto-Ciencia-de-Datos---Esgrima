{
 "cells": [
  {
   "cell_type": "markdown",
   "metadata": {},
   "source": [
    "# 4. Construcción, Entrenamiento y Evaluación del Modelo para el reconocimiento de Posturas corporales de arbitraje en esgrima (señas arbitrales)\n",
    "\n",
    "Una vez identificado el problema y los datos necesarios, empezamos a construir y entrenar un modelo de aprendizaje de máquina para intentar identificar las señas arbitrales en posturas corporales de un individuo. \n",
    "\n",
    "Para ello seguí los siguientes pasos:\n",
    "\n",
    "* Instalar librerías y dependencias\n",
    "* Importar librerías\n",
    "* Diseño de funciones para la captura de los puntos corporales con MediaPipe\n",
    "* Parametrizar las carpetas, número de secuencias y longitud de la secuencia\n",
    "* Recolección de los datos para el entrenamiento\n",
    "* Preprocesamiento de los datos, creación de variables y etiquetas\n",
    "* Construcción, Entrenamiento y Evaluación del Modelo 1 - Primer grupo \n",
    "* Construcción, Entrenamiento y Evaluación del Modelo 2 - Segundo grupo\n",
    "* Test en tiempo real\n",
    "\n",
    "Se construirán 2 modelos de 8 señas cada uno para facilitar el proceso predictivo y el funcionamiento en la fase de lanzamiento, esto como solución a la problemática encontrada en la fase de exploración donde se identificaron algunas señas con similitudes en los patrones de movimiento, lo cual, con la cantidad limitada de datos podría dificultar la precisión del modelo y sus predicciones."
   ]
  },
  {
   "cell_type": "markdown",
   "metadata": {},
   "source": [
    "## Instalar Dependencias y Librerias"
   ]
  },
  {
   "cell_type": "code",
   "execution_count": 1,
   "metadata": {},
   "outputs": [],
   "source": [
    "#!pip install tensorflow==2.4.1 tensorflow-gpu==2.4.1 opencv-python mediapipe sklearn matplotlib\n",
    "#!pip list"
   ]
  },
  {
   "cell_type": "markdown",
   "metadata": {},
   "source": [
    "## Importar librerias"
   ]
  },
  {
   "cell_type": "code",
   "execution_count": 2,
   "metadata": {},
   "outputs": [],
   "source": [
    "import cv2\n",
    "import numpy as np\n",
    "import os\n",
    "from matplotlib import pyplot as plt\n",
    "import time\n",
    "import mediapipe as mp"
   ]
  },
  {
   "cell_type": "markdown",
   "metadata": {},
   "source": [
    "## Diseño de funciones para la captura de los puntos corporales con MediaPipe"
   ]
  },
  {
   "cell_type": "code",
   "execution_count": 3,
   "metadata": {},
   "outputs": [],
   "source": [
    "mp_holistic = mp.solutions.holistic\n",
    "mp_drawing = mp.solutions.drawing_utils"
   ]
  },
  {
   "cell_type": "markdown",
   "metadata": {},
   "source": [
    "#### Función para detectar los puntos corporales"
   ]
  },
  {
   "cell_type": "code",
   "execution_count": 4,
   "metadata": {},
   "outputs": [],
   "source": [
    "\n",
    "\n",
    "def mediapipe_detection(image, model):\n",
    "    image = cv2.cvtColor(image, cv2.COLOR_BGR2RGB) # conversion del color BGR to RGB\n",
    "    image.flags.writeable = False                  # image is no longer writeable \n",
    "    results = model.process(image)                 # make prediction\n",
    "    image.flags.writeable = True                   # image is now writeable\n",
    "    image = cv2.cvtColor(image, cv2.COLOR_RGB2BGR) # reversion del color RGB to BGR\n",
    "    return image, results"
   ]
  },
  {
   "cell_type": "markdown",
   "metadata": {},
   "source": [
    "#### Función para dibujar los puntos corporales de manera estilizada"
   ]
  },
  {
   "cell_type": "code",
   "execution_count": 5,
   "metadata": {},
   "outputs": [],
   "source": [
    "# funcion para dibujar los puntos corporales (estilizada)\n",
    "\n",
    "def draw_styled_landmarks(image, results):\n",
    "    #mp_drawing.draw_landmarks(image, results.face_landmarks, mp_holistic.FACE_CONNECTIONS) # draw face\n",
    "    \n",
    "    # draw pose\n",
    "    mp_drawing.draw_landmarks(image, results.pose_landmarks, mp_holistic.POSE_CONNECTIONS,\n",
    "                             mp_drawing.DrawingSpec(color=(255,255,255), thickness=2, circle_radius=4),\n",
    "                             mp_drawing.DrawingSpec(color=(0,255,255), thickness=3, circle_radius=3)\n",
    "                             )\n",
    "    \n",
    "    # draw left hand\n",
    "    mp_drawing.draw_landmarks(image, results.left_hand_landmarks, mp_holistic.HAND_CONNECTIONS,\n",
    "                             mp_drawing.DrawingSpec(color=(255,255,255), thickness=2, circle_radius=4), #naranja\n",
    "                             mp_drawing.DrawingSpec(color=(0,128,255), thickness=3, circle_radius=3) # amarillo\n",
    "                             )\n",
    "    \n",
    "    # draw right hand\n",
    "    mp_drawing.draw_landmarks(image, results.right_hand_landmarks, mp_holistic.HAND_CONNECTIONS,\n",
    "                             mp_drawing.DrawingSpec(color=(255,255,255), thickness=2, circle_radius=4),\n",
    "                             mp_drawing.DrawingSpec(color=(255,255,0), thickness=3, circle_radius=3)\n",
    "                             ) "
   ]
  },
  {
   "cell_type": "markdown",
   "metadata": {},
   "source": [
    "#### Función para extraer los valores de cada punto corporal (Extract Keypoint values)"
   ]
  },
  {
   "cell_type": "code",
   "execution_count": 6,
   "metadata": {},
   "outputs": [],
   "source": [
    "def extract_keypoints(results):\n",
    "    pose = np.array([[res.x, res.y, res.z, res.visibility] for res in results.pose_landmarks.landmark]).flatten() if results.pose_landmarks else np.zeros(33*4)\n",
    "    #face = np.array([[res.x, res.y, res.z] for res in results.left_hand_landmarks.landmark]).flatten() if results.left_hand_landmarks else np.zeros(1404*3)\n",
    "    lh = np.array([[res.x, res.y, res.z] for res in results.left_hand_landmarks.landmark]).flatten() if results.left_hand_landmarks else np.zeros(21*3)\n",
    "    rh = np.array([[res.x, res.y, res.z] for res in results.right_hand_landmarks.landmark]).flatten() if results.right_hand_landmarks else np.zeros(21*3)\n",
    "    #return np.concatenate([facer,pose,lh,rh])\n",
    "    return np.concatenate([pose,lh,rh])"
   ]
  },
  {
   "cell_type": "markdown",
   "metadata": {},
   "source": [
    "## Parametrizar las carpetas, número de secuencias y longitud de la secuencia\n",
    "\n",
    "Estipulamos la carpeta donde se guardarán las coordenadas X, Y y Z de cada punto corporal. Así mismo, se estableció un total de 50 secuencias (videos) para cada seña arbitral, con una longitud de 30 frames por secuencia."
   ]
  },
  {
   "cell_type": "code",
   "execution_count": 7,
   "metadata": {},
   "outputs": [],
   "source": [
    "# path for exported data\n",
    "DATA_PATH = os.path.join('MP_data4')\n",
    "\n",
    "# acciones que estamos tratando de detectar con el modelo\n",
    "actions = np.array(['punta en linea','ataque','tocado','no valido','parada','tocado doble','nada', 'listos'])\n",
    "\n",
    "# primer grupo = 'punta en linea','ataque','tocado','no valido','parada','tocado doble','nada', 'listos'\n",
    "# segundo grupo = 'adelante','enguardia','punto izquierda','punto doble','no','incorrecto','alto','simultaneo'\n",
    "\n",
    "#acciones = \n",
    "#'adelante'\n",
    "#'alto'\n",
    "#'enguardia'\n",
    "#'listos'\n",
    "#'punto izquierda'\n",
    "#'punto doble'\n",
    "#'punta en linea'\n",
    "#'ataque'\n",
    "#'tocado'\n",
    "#'no valido'\n",
    "#'parada'\n",
    "#'tocado doble'\n",
    "#'simultaneo'\n",
    "#'nada'\n",
    "#'no'\n",
    "#'incorrecto'\n",
    "\n",
    "# cantidad de secuencias de frames  (videos de la accion) que se extraen\n",
    "no_sequences = 50 #100\n",
    "\n",
    "# cantidad de frames de cada video que entran en la detección\n",
    "sequence_length = 30"
   ]
  },
  {
   "cell_type": "code",
   "execution_count": 8,
   "metadata": {},
   "outputs": [],
   "source": [
    "for action in actions:\n",
    "    for sequence in range(no_sequences):\n",
    "    #for sequence in range(85,100):\n",
    "        try:\n",
    "            os.makedirs(os.path.join(DATA_PATH, action, str(sequence)))\n",
    "        except:\n",
    "            pass"
   ]
  },
  {
   "cell_type": "markdown",
   "metadata": {},
   "source": [
    "## Recolección de los datos para el entrenamiento\n",
    "\n",
    "Utilizando OpenCV,  MediaPipe y las funciones creadas previamente, se realizó la recolección de los datos y las coordenadas de los puntos corporales a través de la webcam del computador. "
   ]
  },
  {
   "cell_type": "code",
   "execution_count": 43,
   "metadata": {},
   "outputs": [],
   "source": [
    "cap = cv2.VideoCapture(0)\n",
    "# set mediapipe model\n",
    "with mp_holistic.Holistic(static_image_mode=True,model_complexity=1,smooth_landmarks=True,min_detection_confidence=0.3,\n",
    "                          min_tracking_confidence=0.5) as holistic:\n",
    "    \n",
    "    # loop through actions\n",
    "    for action in actions:\n",
    "        # loop through sequences aka videos\n",
    "        for sequence in range(no_sequences):\n",
    "            #loop through video lenght aka frames/sequence lenght\n",
    "            for frame_num in range(sequence_length):\n",
    "    \n",
    "                # reed feed\n",
    "                ret, frame = cap.read()\n",
    "\n",
    "                # make detections\n",
    "                image, results = mediapipe_detection(frame, holistic)\n",
    "                #print(results)\n",
    "\n",
    "                # Draw landmarks\n",
    "                draw_styled_landmarks(image, results)\n",
    "                \n",
    "                # apply wait logic\n",
    "                if frame_num == 0:\n",
    "                    cv2.putText(image, 'STARTING COLLECTION', (120,200),\n",
    "                               cv2.FONT_HERSHEY_SIMPLEX, 1, (0,255,0), 4, cv2.LINE_AA)\n",
    "                    cv2.putText(image, 'Postura: {} numero {}'.format(action, sequence), (15,30),\n",
    "                               cv2.FONT_HERSHEY_SIMPLEX, 1, (0,0,255), 4, cv2.LINE_AA)\n",
    "                    # show on screen\n",
    "                    cv2.imshow('OpenCV Feed', image)\n",
    "                    cv2.waitKey(2000)\n",
    "                else:\n",
    "                    cv2.putText(image, 'Postura {} numero {}'.format(action, sequence), (15,30),\n",
    "                               cv2.FONT_HERSHEY_SIMPLEX, 1, (0,0,255), 4, cv2.LINE_AA)\n",
    "                    # show on screen\n",
    "                    cv2.imshow('OpenCV Feed', image)\n",
    "\n",
    "            \n",
    "                # Export Keypoints\n",
    "                keypoints = extract_keypoints(results)\n",
    "                npy_path = os.path.join(DATA_PATH, action, str(sequence), str(frame_num))\n",
    "                np.save(npy_path, keypoints)\n",
    "\n",
    "\n",
    "                # break\n",
    "                if cv2.waitKey(10) & 0xFF == ord('q'):\n",
    "                    break\n",
    "\n",
    "    cap.release()\n",
    "    cv2.destroyAllWindows()"
   ]
  },
  {
   "cell_type": "markdown",
   "metadata": {},
   "source": [
    "## Preprocesamiento de los datos, creación de variables y etiquetas (Preprocess Data, Create Labels and Features)"
   ]
  },
  {
   "cell_type": "code",
   "execution_count": 9,
   "metadata": {},
   "outputs": [],
   "source": [
    "from sklearn.model_selection import train_test_split\n"
   ]
  },
  {
   "cell_type": "code",
   "execution_count": 10,
   "metadata": {},
   "outputs": [
    {
     "ename": "NotFoundError",
     "evalue": "/usr/local/lib/python3.8/dist-packages/tensorflow/core/kernels/libtfkernel_sobol_op.so: undefined symbol: _ZN10tensorflow6StatusC1ENS_5error4CodeEN4absl14lts_2020_09_2311string_viewEOSt6vectorINS_10StackFrameESaIS7_EE",
     "output_type": "error",
     "traceback": [
      "\u001b[0;31m---------------------------------------------------------------------------\u001b[0m",
      "\u001b[0;31mNotFoundError\u001b[0m                             Traceback (most recent call last)",
      "\u001b[0;32m<ipython-input-10-1901b0db022a>\u001b[0m in \u001b[0;36m<module>\u001b[0;34m\u001b[0m\n\u001b[0;32m----> 1\u001b[0;31m \u001b[0;32mfrom\u001b[0m \u001b[0mtensorflow\u001b[0m\u001b[0;34m.\u001b[0m\u001b[0mkeras\u001b[0m\u001b[0;34m.\u001b[0m\u001b[0mutils\u001b[0m \u001b[0;32mimport\u001b[0m \u001b[0mto_categorical\u001b[0m\u001b[0;34m\u001b[0m\u001b[0;34m\u001b[0m\u001b[0m\n\u001b[0m",
      "\u001b[0;32m~/.local/lib/python3.8/site-packages/tensorflow/__init__.py\u001b[0m in \u001b[0;36m<module>\u001b[0;34m\u001b[0m\n\u001b[1;32m    434\u001b[0m     \u001b[0m_main_dir\u001b[0m \u001b[0;34m=\u001b[0m \u001b[0m_os\u001b[0m\u001b[0;34m.\u001b[0m\u001b[0mpath\u001b[0m\u001b[0;34m.\u001b[0m\u001b[0mjoin\u001b[0m\u001b[0;34m(\u001b[0m\u001b[0m_s\u001b[0m\u001b[0;34m,\u001b[0m \u001b[0;34m'tensorflow/core/kernels'\u001b[0m\u001b[0;34m)\u001b[0m\u001b[0;34m\u001b[0m\u001b[0;34m\u001b[0m\u001b[0m\n\u001b[1;32m    435\u001b[0m     \u001b[0;32mif\u001b[0m \u001b[0m_os\u001b[0m\u001b[0;34m.\u001b[0m\u001b[0mpath\u001b[0m\u001b[0;34m.\u001b[0m\u001b[0mexists\u001b[0m\u001b[0;34m(\u001b[0m\u001b[0m_main_dir\u001b[0m\u001b[0;34m)\u001b[0m\u001b[0;34m:\u001b[0m\u001b[0;34m\u001b[0m\u001b[0;34m\u001b[0m\u001b[0m\n\u001b[0;32m--> 436\u001b[0;31m       \u001b[0m_ll\u001b[0m\u001b[0;34m.\u001b[0m\u001b[0mload_library\u001b[0m\u001b[0;34m(\u001b[0m\u001b[0m_main_dir\u001b[0m\u001b[0;34m)\u001b[0m\u001b[0;34m\u001b[0m\u001b[0;34m\u001b[0m\u001b[0m\n\u001b[0m\u001b[1;32m    437\u001b[0m \u001b[0;34m\u001b[0m\u001b[0m\n\u001b[1;32m    438\u001b[0m     \u001b[0;31m# Load third party dynamic kernels.\u001b[0m\u001b[0;34m\u001b[0m\u001b[0;34m\u001b[0m\u001b[0;34m\u001b[0m\u001b[0m\n",
      "\u001b[0;32m~/.local/lib/python3.8/site-packages/tensorflow/python/framework/load_library.py\u001b[0m in \u001b[0;36mload_library\u001b[0;34m(library_location)\u001b[0m\n\u001b[1;32m    151\u001b[0m \u001b[0;34m\u001b[0m\u001b[0m\n\u001b[1;32m    152\u001b[0m     \u001b[0;32mfor\u001b[0m \u001b[0mlib\u001b[0m \u001b[0;32min\u001b[0m \u001b[0mkernel_libraries\u001b[0m\u001b[0;34m:\u001b[0m\u001b[0;34m\u001b[0m\u001b[0;34m\u001b[0m\u001b[0m\n\u001b[0;32m--> 153\u001b[0;31m       \u001b[0mpy_tf\u001b[0m\u001b[0;34m.\u001b[0m\u001b[0mTF_LoadLibrary\u001b[0m\u001b[0;34m(\u001b[0m\u001b[0mlib\u001b[0m\u001b[0;34m)\u001b[0m\u001b[0;34m\u001b[0m\u001b[0;34m\u001b[0m\u001b[0m\n\u001b[0m\u001b[1;32m    154\u001b[0m \u001b[0;34m\u001b[0m\u001b[0m\n\u001b[1;32m    155\u001b[0m   \u001b[0;32melse\u001b[0m\u001b[0;34m:\u001b[0m\u001b[0;34m\u001b[0m\u001b[0;34m\u001b[0m\u001b[0m\n",
      "\u001b[0;31mNotFoundError\u001b[0m: /usr/local/lib/python3.8/dist-packages/tensorflow/core/kernels/libtfkernel_sobol_op.so: undefined symbol: _ZN10tensorflow6StatusC1ENS_5error4CodeEN4absl14lts_2020_09_2311string_viewEOSt6vectorINS_10StackFrameESaIS7_EE"
     ]
    }
   ],
   "source": [
    "from tensorflow.keras.utils import to_categorical"
   ]
  },
  {
   "cell_type": "code",
   "execution_count": 11,
   "metadata": {},
   "outputs": [],
   "source": [
    "from tensorflow.keras.utils import to_categorical"
   ]
  },
  {
   "cell_type": "markdown",
   "metadata": {},
   "source": [
    "Creamos un diccionario con las etiquetas para el primer modelo con 8 señas arbitrales. "
   ]
  },
  {
   "cell_type": "code",
   "execution_count": 12,
   "metadata": {},
   "outputs": [],
   "source": [
    "label_map = {label:num for num, label in enumerate(actions)}"
   ]
  },
  {
   "cell_type": "code",
   "execution_count": 13,
   "metadata": {},
   "outputs": [
    {
     "data": {
      "text/plain": [
       "{'punta en linea': 0,\n",
       " 'ataque': 1,\n",
       " 'tocado': 2,\n",
       " 'no valido': 3,\n",
       " 'parada': 4,\n",
       " 'tocado doble': 5,\n",
       " 'nada': 6,\n",
       " 'listos': 7}"
      ]
     },
     "execution_count": 13,
     "metadata": {},
     "output_type": "execute_result"
    }
   ],
   "source": [
    "label_map"
   ]
  },
  {
   "cell_type": "markdown",
   "metadata": {},
   "source": [
    "Luego unificamos los datos recolectados para cada seña en el paso previo generando un array con los datos de las diferentes secuencias de las señas y sus respectivas coordenadas, así como un array con las etiquetas para cada una de las secuencias ordenadamente."
   ]
  },
  {
   "cell_type": "code",
   "execution_count": 14,
   "metadata": {},
   "outputs": [],
   "source": [
    "sequences, labels = [], []\n",
    "for action in actions:\n",
    "    for sequence in range(no_sequences):\n",
    "        window = []\n",
    "        for frame_num in range(sequence_length):\n",
    "            res = np.load(os.path.join(DATA_PATH, action, str(sequence), '{}.npy'.format(frame_num)))\n",
    "            window.append(res)\n",
    "        sequences.append(window)\n",
    "        labels.append(label_map[action])\n",
    "        "
   ]
  },
  {
   "cell_type": "markdown",
   "metadata": {},
   "source": [
    "Vemos que la forma del array de las secuencias esta compuesta por 400 secuencias de 30 frames cada una y en cada uno de los frames están los 258 datos de las coordenadas de los puntos corporales estimados a través de MediaPipe"
   ]
  },
  {
   "cell_type": "code",
   "execution_count": 15,
   "metadata": {},
   "outputs": [
    {
     "data": {
      "text/plain": [
       "(400, 30, 258)"
      ]
     },
     "execution_count": 15,
     "metadata": {},
     "output_type": "execute_result"
    }
   ],
   "source": [
    "np.array(sequences).shape"
   ]
  },
  {
   "cell_type": "markdown",
   "metadata": {},
   "source": [
    "Por su parte el array de las etiquetas contiene unicamente las 400 etiquetas correspondientes a cada secuencia."
   ]
  },
  {
   "cell_type": "code",
   "execution_count": 16,
   "metadata": {},
   "outputs": [
    {
     "data": {
      "text/plain": [
       "(400,)"
      ]
     },
     "execution_count": 16,
     "metadata": {},
     "output_type": "execute_result"
    }
   ],
   "source": [
    "np.array(labels).shape"
   ]
  },
  {
   "cell_type": "markdown",
   "metadata": {},
   "source": [
    "Por último, transformamos las etiquetas en una variable categórica y realizamos la partición de los datos en Train y Test."
   ]
  },
  {
   "cell_type": "code",
   "execution_count": 17,
   "metadata": {},
   "outputs": [],
   "source": [
    "X = np.array(sequences)\n",
    "y = to_categorical(labels).astype(int)"
   ]
  },
  {
   "cell_type": "code",
   "execution_count": 18,
   "metadata": {},
   "outputs": [],
   "source": [
    "X_train, X_test, y_train, y_test = train_test_split(X, y, test_size=0.05)"
   ]
  },
  {
   "cell_type": "markdown",
   "metadata": {},
   "source": [
    "Una vez los datos ya se encuentran organizados de la manera correcta para la construcción del modelo, procedemos a la construcción y entrenamiento del Modelo y la Red Neuronal "
   ]
  },
  {
   "cell_type": "markdown",
   "metadata": {},
   "source": [
    "# Build and Train LSTM Neural Network"
   ]
  },
  {
   "cell_type": "code",
   "execution_count": 19,
   "metadata": {},
   "outputs": [],
   "source": [
    "from tensorflow.keras.models import Sequential\n",
    "from tensorflow.keras.layers import LSTM, Dense\n",
    "from tensorflow.keras.callbacks import TensorBoard\n"
   ]
  },
  {
   "cell_type": "code",
   "execution_count": 20,
   "metadata": {},
   "outputs": [],
   "source": [
    "log_dir = os.path.join('Logs')\n",
    "tb_callback = TensorBoard(log_dir=log_dir)"
   ]
  },
  {
   "cell_type": "markdown",
   "metadata": {},
   "source": [
    "# Construcción, Entrenamiento y Evaluación del Modelo 1 - Primer grupo de señas"
   ]
  },
  {
   "cell_type": "code",
   "execution_count": 21,
   "metadata": {},
   "outputs": [],
   "source": [
    "# model structure\n",
    "model = Sequential()\n",
    "model.add(LSTM(64, return_sequences=True, activation='relu', input_shape=(30,258)))\n",
    "model.add(LSTM(128, return_sequences=True, activation='relu'))\n",
    "model.add(LSTM(64, return_sequences=False, activation='relu'))\n",
    "model.add(Dense(64,activation='relu'))\n",
    "model.add(Dense(32,activation='relu'))\n",
    "model.add(Dense(actions.shape[0],activation='softmax'))\n"
   ]
  },
  {
   "cell_type": "code",
   "execution_count": 22,
   "metadata": {},
   "outputs": [],
   "source": [
    "# model compilation\n",
    "model.compile(optimizer='Adam', loss='categorical_crossentropy', metrics=['categorical_accuracy'] )"
   ]
  },
  {
   "cell_type": "code",
   "execution_count": 23,
   "metadata": {
    "scrolled": true
   },
   "outputs": [
    {
     "name": "stdout",
     "output_type": "stream",
     "text": [
      "Epoch 1/55\n",
      "11/11 [==============================] - 3s 104ms/step - loss: 2.0841 - categorical_accuracy: 0.1656 - val_loss: 2.0197 - val_categorical_accuracy: 0.2632\n",
      "Epoch 2/55\n",
      "11/11 [==============================] - 0s 44ms/step - loss: 1.9649 - categorical_accuracy: 0.3023 - val_loss: 1.6795 - val_categorical_accuracy: 0.3158\n",
      "Epoch 3/55\n",
      "11/11 [==============================] - 0s 45ms/step - loss: 1.7073 - categorical_accuracy: 0.4855 - val_loss: 1.2788 - val_categorical_accuracy: 0.5000\n",
      "Epoch 4/55\n",
      "11/11 [==============================] - 0s 45ms/step - loss: 1.4782 - categorical_accuracy: 0.4639 - val_loss: 1.2833 - val_categorical_accuracy: 0.5526\n",
      "Epoch 5/55\n",
      "11/11 [==============================] - 1s 46ms/step - loss: 1.5027 - categorical_accuracy: 0.6406 - val_loss: 1.3279 - val_categorical_accuracy: 0.5000\n",
      "Epoch 6/55\n",
      "11/11 [==============================] - 0s 44ms/step - loss: 1.5380 - categorical_accuracy: 0.3836 - val_loss: 1.1432 - val_categorical_accuracy: 0.6053\n",
      "Epoch 7/55\n",
      "11/11 [==============================] - 0s 45ms/step - loss: 1.3011 - categorical_accuracy: 0.4983 - val_loss: 1.7860 - val_categorical_accuracy: 0.2105\n",
      "Epoch 8/55\n",
      "11/11 [==============================] - 0s 44ms/step - loss: 1.7523 - categorical_accuracy: 0.2719 - val_loss: 1.7432 - val_categorical_accuracy: 0.2368\n",
      "Epoch 9/55\n",
      "11/11 [==============================] - 0s 44ms/step - loss: 1.6594 - categorical_accuracy: 0.2920 - val_loss: 1.6591 - val_categorical_accuracy: 0.2632\n",
      "Epoch 10/55\n",
      "11/11 [==============================] - 0s 44ms/step - loss: 1.5330 - categorical_accuracy: 0.4582 - val_loss: 1.6814 - val_categorical_accuracy: 0.2895\n",
      "Epoch 11/55\n",
      "11/11 [==============================] - 0s 45ms/step - loss: 1.3755 - categorical_accuracy: 0.4397 - val_loss: 1.4231 - val_categorical_accuracy: 0.3158\n",
      "Epoch 12/55\n",
      "11/11 [==============================] - 0s 45ms/step - loss: 1.2980 - categorical_accuracy: 0.4233 - val_loss: 1.3442 - val_categorical_accuracy: 0.3421\n",
      "Epoch 13/55\n",
      "11/11 [==============================] - 0s 45ms/step - loss: 1.4130 - categorical_accuracy: 0.3979 - val_loss: 1.0756 - val_categorical_accuracy: 0.6053\n",
      "Epoch 14/55\n",
      "11/11 [==============================] - 0s 44ms/step - loss: 1.3360 - categorical_accuracy: 0.5147 - val_loss: 0.7696 - val_categorical_accuracy: 0.6842\n",
      "Epoch 15/55\n",
      "11/11 [==============================] - 1s 47ms/step - loss: 1.2514 - categorical_accuracy: 0.5147 - val_loss: 1.8610 - val_categorical_accuracy: 0.1316\n",
      "Epoch 16/55\n",
      "11/11 [==============================] - 0s 43ms/step - loss: 1.5987 - categorical_accuracy: 0.3108 - val_loss: 2.0702 - val_categorical_accuracy: 0.3158\n",
      "Epoch 17/55\n",
      "11/11 [==============================] - 0s 43ms/step - loss: 1.7604 - categorical_accuracy: 0.3218 - val_loss: 1.5178 - val_categorical_accuracy: 0.4211\n",
      "Epoch 18/55\n",
      "11/11 [==============================] - 0s 44ms/step - loss: 1.5753 - categorical_accuracy: 0.4256 - val_loss: 0.9393 - val_categorical_accuracy: 0.6316\n",
      "Epoch 19/55\n",
      "11/11 [==============================] - 0s 44ms/step - loss: 1.0766 - categorical_accuracy: 0.5592 - val_loss: 0.7456 - val_categorical_accuracy: 0.6842\n",
      "Epoch 20/55\n",
      "11/11 [==============================] - 0s 43ms/step - loss: 0.8664 - categorical_accuracy: 0.6391 - val_loss: 0.5596 - val_categorical_accuracy: 0.7105\n",
      "Epoch 21/55\n",
      "11/11 [==============================] - 0s 43ms/step - loss: 0.7059 - categorical_accuracy: 0.6527 - val_loss: 0.4848 - val_categorical_accuracy: 0.8158\n",
      "Epoch 22/55\n",
      "11/11 [==============================] - 0s 44ms/step - loss: 0.5842 - categorical_accuracy: 0.7661 - val_loss: 2.0204 - val_categorical_accuracy: 0.5000\n",
      "Epoch 23/55\n",
      "11/11 [==============================] - 0s 44ms/step - loss: 1.2558 - categorical_accuracy: 0.5999 - val_loss: 1.2473 - val_categorical_accuracy: 0.3421\n",
      "Epoch 24/55\n",
      "11/11 [==============================] - 0s 45ms/step - loss: 1.0697 - categorical_accuracy: 0.5377 - val_loss: 1.1147 - val_categorical_accuracy: 0.3947\n",
      "Epoch 25/55\n",
      "11/11 [==============================] - 0s 44ms/step - loss: 1.1367 - categorical_accuracy: 0.4650 - val_loss: 1.0589 - val_categorical_accuracy: 0.4737\n",
      "Epoch 26/55\n",
      "11/11 [==============================] - 0s 45ms/step - loss: 0.8489 - categorical_accuracy: 0.6220 - val_loss: 0.6855 - val_categorical_accuracy: 0.5789\n",
      "Epoch 27/55\n",
      "11/11 [==============================] - 0s 45ms/step - loss: 0.6732 - categorical_accuracy: 0.6954 - val_loss: 0.7171 - val_categorical_accuracy: 0.8684\n",
      "Epoch 28/55\n",
      "11/11 [==============================] - 0s 44ms/step - loss: 0.6528 - categorical_accuracy: 0.7554 - val_loss: 0.3974 - val_categorical_accuracy: 0.7895\n",
      "Epoch 29/55\n",
      "11/11 [==============================] - 0s 44ms/step - loss: 0.4023 - categorical_accuracy: 0.8021 - val_loss: 0.5574 - val_categorical_accuracy: 0.8158\n",
      "Epoch 30/55\n",
      "11/11 [==============================] - 0s 44ms/step - loss: 0.5669 - categorical_accuracy: 0.7534 - val_loss: 0.4850 - val_categorical_accuracy: 0.8158\n",
      "Epoch 31/55\n",
      "11/11 [==============================] - 0s 44ms/step - loss: 0.4383 - categorical_accuracy: 0.8326 - val_loss: 0.3143 - val_categorical_accuracy: 0.8947\n",
      "Epoch 32/55\n",
      "11/11 [==============================] - 0s 46ms/step - loss: 0.3468 - categorical_accuracy: 0.8135 - val_loss: 0.4394 - val_categorical_accuracy: 0.8947\n",
      "Epoch 33/55\n",
      "11/11 [==============================] - 0s 46ms/step - loss: 0.2751 - categorical_accuracy: 0.8799 - val_loss: 0.5074 - val_categorical_accuracy: 0.9211\n",
      "Epoch 34/55\n",
      "11/11 [==============================] - 0s 44ms/step - loss: 0.4440 - categorical_accuracy: 0.8625 - val_loss: 0.2798 - val_categorical_accuracy: 0.8684\n",
      "Epoch 35/55\n",
      "11/11 [==============================] - 0s 45ms/step - loss: 0.2918 - categorical_accuracy: 0.8482 - val_loss: 0.1736 - val_categorical_accuracy: 0.9737\n",
      "Epoch 36/55\n",
      "11/11 [==============================] - 0s 46ms/step - loss: 0.2141 - categorical_accuracy: 0.9068 - val_loss: 0.1192 - val_categorical_accuracy: 0.9737\n",
      "Epoch 37/55\n",
      "11/11 [==============================] - 0s 45ms/step - loss: 0.1850 - categorical_accuracy: 0.9302 - val_loss: 0.3123 - val_categorical_accuracy: 0.8421\n",
      "Epoch 38/55\n",
      "11/11 [==============================] - 0s 45ms/step - loss: 0.3070 - categorical_accuracy: 0.8629 - val_loss: 0.2539 - val_categorical_accuracy: 0.9211\n",
      "Epoch 39/55\n",
      "11/11 [==============================] - 0s 44ms/step - loss: 0.2529 - categorical_accuracy: 0.8720 - val_loss: 0.2193 - val_categorical_accuracy: 0.9474\n",
      "Epoch 40/55\n",
      "11/11 [==============================] - 1s 50ms/step - loss: 0.1880 - categorical_accuracy: 0.9139 - val_loss: 0.3233 - val_categorical_accuracy: 0.8947\n",
      "Epoch 41/55\n",
      "11/11 [==============================] - 1s 60ms/step - loss: 0.2213 - categorical_accuracy: 0.8856 - val_loss: 0.1832 - val_categorical_accuracy: 0.9211\n",
      "Epoch 42/55\n",
      "11/11 [==============================] - 1s 63ms/step - loss: 0.1791 - categorical_accuracy: 0.9308 - val_loss: 0.1393 - val_categorical_accuracy: 0.9474\n",
      "Epoch 43/55\n",
      "11/11 [==============================] - 1s 55ms/step - loss: 0.0993 - categorical_accuracy: 0.9766 - val_loss: 0.1768 - val_categorical_accuracy: 0.9211\n",
      "Epoch 44/55\n",
      "11/11 [==============================] - 1s 46ms/step - loss: 0.1197 - categorical_accuracy: 0.9542 - val_loss: 0.2649 - val_categorical_accuracy: 0.9211\n",
      "Epoch 45/55\n",
      "11/11 [==============================] - 0s 45ms/step - loss: 0.2581 - categorical_accuracy: 0.8929 - val_loss: 0.1656 - val_categorical_accuracy: 0.9211\n",
      "Epoch 46/55\n",
      "11/11 [==============================] - 1s 46ms/step - loss: 0.1512 - categorical_accuracy: 0.9306 - val_loss: 0.3931 - val_categorical_accuracy: 0.8684\n",
      "Epoch 47/55\n",
      "11/11 [==============================] - 0s 45ms/step - loss: 0.2156 - categorical_accuracy: 0.9151 - val_loss: 0.1323 - val_categorical_accuracy: 0.9737\n",
      "Epoch 48/55\n",
      "11/11 [==============================] - 1s 47ms/step - loss: 0.1025 - categorical_accuracy: 0.9593 - val_loss: 0.1004 - val_categorical_accuracy: 0.9737\n",
      "Epoch 49/55\n",
      "11/11 [==============================] - 0s 45ms/step - loss: 0.1042 - categorical_accuracy: 0.9471 - val_loss: 0.2784 - val_categorical_accuracy: 0.9737\n",
      "Epoch 50/55\n"
     ]
    },
    {
     "name": "stdout",
     "output_type": "stream",
     "text": [
      "11/11 [==============================] - 0s 45ms/step - loss: 0.1212 - categorical_accuracy: 0.9668 - val_loss: 0.4491 - val_categorical_accuracy: 0.8684\n",
      "Epoch 51/55\n",
      "11/11 [==============================] - 0s 45ms/step - loss: 0.3469 - categorical_accuracy: 0.8750 - val_loss: 0.2717 - val_categorical_accuracy: 0.9474\n",
      "Epoch 52/55\n",
      "11/11 [==============================] - 0s 45ms/step - loss: 0.4061 - categorical_accuracy: 0.8340 - val_loss: 0.2861 - val_categorical_accuracy: 0.8421\n",
      "Epoch 53/55\n",
      "11/11 [==============================] - 0s 45ms/step - loss: 0.1757 - categorical_accuracy: 0.8732 - val_loss: 0.1244 - val_categorical_accuracy: 0.9737\n",
      "Epoch 54/55\n",
      "11/11 [==============================] - 0s 45ms/step - loss: 0.1375 - categorical_accuracy: 0.9874 - val_loss: 0.1915 - val_categorical_accuracy: 0.9737\n",
      "Epoch 55/55\n",
      "11/11 [==============================] - 0s 46ms/step - loss: 0.0466 - categorical_accuracy: 0.9959 - val_loss: 0.4340 - val_categorical_accuracy: 0.8158\n"
     ]
    }
   ],
   "source": [
    "history = model.fit(X_train, y_train, epochs=55, callbacks=[tb_callback],validation_split = 0.1)"
   ]
  },
  {
   "cell_type": "code",
   "execution_count": 24,
   "metadata": {},
   "outputs": [
    {
     "name": "stdout",
     "output_type": "stream",
     "text": [
      "Model: \"sequential\"\n",
      "_________________________________________________________________\n",
      "Layer (type)                 Output Shape              Param #   \n",
      "=================================================================\n",
      "lstm (LSTM)                  (None, 30, 64)            82688     \n",
      "_________________________________________________________________\n",
      "lstm_1 (LSTM)                (None, 30, 128)           98816     \n",
      "_________________________________________________________________\n",
      "lstm_2 (LSTM)                (None, 64)                49408     \n",
      "_________________________________________________________________\n",
      "dense (Dense)                (None, 64)                4160      \n",
      "_________________________________________________________________\n",
      "dense_1 (Dense)              (None, 32)                2080      \n",
      "_________________________________________________________________\n",
      "dense_2 (Dense)              (None, 8)                 264       \n",
      "=================================================================\n",
      "Total params: 237,416\n",
      "Trainable params: 237,416\n",
      "Non-trainable params: 0\n",
      "_________________________________________________________________\n"
     ]
    }
   ],
   "source": [
    "model.summary()"
   ]
  },
  {
   "cell_type": "code",
   "execution_count": 25,
   "metadata": {},
   "outputs": [
    {
     "data": {
      "image/png": "[encoded data removed]",
      "text/plain": [
       "<Figure size 432x288 with 1 Axes>"
      ]
     },
     "metadata": {
      "needs_background": "light"
     },
     "output_type": "display_data"
    },
    {
     "data": {
      "image/png": "[encoded data removed]",
      "text/plain": [
       "<Figure size 432x288 with 1 Axes>"
      ]
     },
     "metadata": {
      "needs_background": "light"
     },
     "output_type": "display_data"
    }
   ],
   "source": [
    "#  \"Accuracy\"\n",
    "plt.plot(history.history['categorical_accuracy'])\n",
    "plt.plot(history.history['val_categorical_accuracy'])\n",
    "plt.title('model accuracy')\n",
    "plt.ylabel('accuracy')\n",
    "plt.xlabel('epoch')\n",
    "plt.legend(['train', 'validation'], loc='upper left')\n",
    "plt.show()\n",
    "# \"Loss\"\n",
    "plt.plot(history.history['loss'])\n",
    "plt.plot(history.history['val_loss'])\n",
    "plt.title('model loss')\n",
    "plt.ylabel('loss')\n",
    "plt.xlabel('epoch')\n",
    "plt.legend(['train', 'validation'], loc='upper left')\n",
    "plt.show()"
   ]
  },
  {
   "cell_type": "markdown",
   "metadata": {},
   "source": [
    "# Make Predictions"
   ]
  },
  {
   "cell_type": "code",
   "execution_count": 26,
   "metadata": {},
   "outputs": [],
   "source": [
    "res = model.predict(X_test)"
   ]
  },
  {
   "cell_type": "code",
   "execution_count": 27,
   "metadata": {},
   "outputs": [
    {
     "data": {
      "text/plain": [
       "'nada'"
      ]
     },
     "execution_count": 27,
     "metadata": {},
     "output_type": "execute_result"
    }
   ],
   "source": [
    "actions[np.argmax(res[1])]"
   ]
  },
  {
   "cell_type": "code",
   "execution_count": 28,
   "metadata": {},
   "outputs": [
    {
     "data": {
      "text/plain": [
       "'nada'"
      ]
     },
     "execution_count": 28,
     "metadata": {},
     "output_type": "execute_result"
    }
   ],
   "source": [
    "actions[np.argmax(y_test[1])]"
   ]
  },
  {
   "cell_type": "markdown",
   "metadata": {},
   "source": [
    "# Evaluating using a confusion matrix and accuracy"
   ]
  },
  {
   "cell_type": "code",
   "execution_count": 29,
   "metadata": {},
   "outputs": [],
   "source": [
    "from sklearn.metrics import multilabel_confusion_matrix, accuracy_score"
   ]
  },
  {
   "cell_type": "code",
   "execution_count": 30,
   "metadata": {},
   "outputs": [],
   "source": [
    "yhat = model.predict(X_test)"
   ]
  },
  {
   "cell_type": "code",
   "execution_count": 31,
   "metadata": {},
   "outputs": [],
   "source": [
    "ytrue = np.argmax(y_test, axis=1).tolist()\n",
    "yhat = np.argmax(yhat, axis=1).tolist()"
   ]
  },
  {
   "cell_type": "code",
   "execution_count": 32,
   "metadata": {},
   "outputs": [
    {
     "data": {
      "text/plain": [
       "array([[[16,  0],\n",
       "        [ 0,  4]],\n",
       "\n",
       "       [[17,  0],\n",
       "        [ 0,  3]],\n",
       "\n",
       "       [[18,  0],\n",
       "        [ 0,  2]],\n",
       "\n",
       "       [[18,  0],\n",
       "        [ 0,  2]],\n",
       "\n",
       "       [[18,  0],\n",
       "        [ 0,  2]],\n",
       "\n",
       "       [[18,  0],\n",
       "        [ 0,  2]],\n",
       "\n",
       "       [[17,  0],\n",
       "        [ 0,  3]],\n",
       "\n",
       "       [[18,  0],\n",
       "        [ 0,  2]]])"
      ]
     },
     "execution_count": 32,
     "metadata": {},
     "output_type": "execute_result"
    }
   ],
   "source": [
    "multilabel_confusion_matrix(ytrue, yhat)"
   ]
  },
  {
   "cell_type": "code",
   "execution_count": 33,
   "metadata": {},
   "outputs": [
    {
     "data": {
      "text/plain": [
       "1.0"
      ]
     },
     "execution_count": 33,
     "metadata": {},
     "output_type": "execute_result"
    }
   ],
   "source": [
    "accuracy_score(ytrue, yhat)"
   ]
  },
  {
   "cell_type": "markdown",
   "metadata": {},
   "source": [
    "# Construcción, Entrenamiento y Evaluación del Modelo 2 - Segundo grupo de señas"
   ]
  },
  {
   "cell_type": "code",
   "execution_count": 34,
   "metadata": {},
   "outputs": [],
   "source": [
    "# path for exported data\n",
    "DATA_PATH = os.path.join('MP_data4')\n",
    "\n",
    "# acciones que estamos tratando de detectar con el modelo\n",
    "actions2 = np.array(['adelante','enguardia','punto izquierda','punto doble','no','incorrecto','alto','simultaneo'])\n",
    "# primer grupo = 'punta en linea','ataque','tocado','no valido','parada','tocado doble','nada', 'listos'\n",
    "# segundo grupo = 'adelante','enguardia','punto izquierda','punto doble','no','incorrecto','alto','simultaneo'\n",
    "\n",
    "#acciones = \n",
    "#'alto'\n",
    "#'adelante'\n",
    "#'enguardia'\n",
    "#'listos'\n",
    "#'punto izquierda'\n",
    "#'punto doble'\n",
    "#'punta en linea'\n",
    "#'ataque'\n",
    "#'tocado'\n",
    "#'no valido'\n",
    "#'parada'\n",
    "#'tocado doble'\n",
    "#'simultaneo'\n",
    "#'nada'\n",
    "#'no'\n",
    "#'incorrecto'\n",
    "\n",
    "# cantidad de secuencias de frames  (videos de la accion) que se extraen\n",
    "no_sequences = 50 #100\n",
    "\n",
    "# cantidad de frames de cada video que entran en la detección\n",
    "sequence_length = 30\n",
    "\n",
    "#------------------------------------------------------------------------------------------------\n",
    "\n",
    "\n",
    "label_map2 = {label:num for num, label in enumerate(actions2)}\n",
    "\n",
    "sequences2, labels2 = [], []\n",
    "for action in actions2:\n",
    "    for sequence in range(no_sequences):\n",
    "        window = []\n",
    "        for frame_num in range(sequence_length):\n",
    "            res = np.load(os.path.join(DATA_PATH, action, str(sequence), '{}.npy'.format(frame_num)))\n",
    "            window.append(res)\n",
    "        sequences2.append(window)\n",
    "        labels2.append(label_map2[action])\n",
    "\n",
    "#----------------------------------------------------------------------------------------        \n",
    "\n",
    "X2 = np.array(sequences2)\n",
    "y2 = to_categorical(labels2).astype(int)\n",
    "\n",
    "\n",
    "X2_train, X2_test, y2_train, y2_test = train_test_split(X2, y2, test_size=0.05)"
   ]
  },
  {
   "cell_type": "code",
   "execution_count": 35,
   "metadata": {},
   "outputs": [],
   "source": [
    "# model structure\n",
    "model2 = Sequential()\n",
    "model2.add(LSTM(64, return_sequences=True, activation='relu', input_shape=(30,258)))\n",
    "model2.add(LSTM(128, return_sequences=True, activation='relu'))\n",
    "model2.add(LSTM(64, return_sequences=False, activation='relu'))\n",
    "model2.add(Dense(64,activation='relu'))\n",
    "model2.add(Dense(32,activation='relu'))\n",
    "model2.add(Dense(actions.shape[0],activation='softmax'))\n"
   ]
  },
  {
   "cell_type": "code",
   "execution_count": 36,
   "metadata": {},
   "outputs": [],
   "source": [
    "# model compilation\n",
    "model2.compile(optimizer='Adam', loss='categorical_crossentropy', metrics=['categorical_accuracy'] )"
   ]
  },
  {
   "cell_type": "code",
   "execution_count": 37,
   "metadata": {},
   "outputs": [
    {
     "name": "stdout",
     "output_type": "stream",
     "text": [
      "Epoch 1/55\n",
      "11/11 [==============================] - 3s 125ms/step - loss: 2.0467 - categorical_accuracy: 0.1456 - val_loss: 2.2283 - val_categorical_accuracy: 0.0789\n",
      "Epoch 2/55\n",
      "11/11 [==============================] - 0s 45ms/step - loss: 1.7622 - categorical_accuracy: 0.2819 - val_loss: 1.5034 - val_categorical_accuracy: 0.4474\n",
      "Epoch 3/55\n",
      "11/11 [==============================] - 0s 45ms/step - loss: 1.3497 - categorical_accuracy: 0.5194 - val_loss: 1.4056 - val_categorical_accuracy: 0.5263\n",
      "Epoch 4/55\n",
      "11/11 [==============================] - 0s 44ms/step - loss: 1.3631 - categorical_accuracy: 0.5566 - val_loss: 1.3365 - val_categorical_accuracy: 0.3947\n",
      "Epoch 5/55\n",
      "11/11 [==============================] - 0s 46ms/step - loss: 1.2055 - categorical_accuracy: 0.4798 - val_loss: 1.3125 - val_categorical_accuracy: 0.3947\n",
      "Epoch 6/55\n",
      "11/11 [==============================] - 0s 45ms/step - loss: 1.0116 - categorical_accuracy: 0.5910 - val_loss: 0.8549 - val_categorical_accuracy: 0.6053\n",
      "Epoch 7/55\n",
      "11/11 [==============================] - 0s 45ms/step - loss: 0.8605 - categorical_accuracy: 0.6658 - val_loss: 1.0051 - val_categorical_accuracy: 0.7632\n",
      "Epoch 8/55\n",
      "11/11 [==============================] - 0s 45ms/step - loss: 1.1087 - categorical_accuracy: 0.6755 - val_loss: 0.6835 - val_categorical_accuracy: 0.8684\n",
      "Epoch 9/55\n",
      "11/11 [==============================] - 1s 46ms/step - loss: 0.7040 - categorical_accuracy: 0.7906 - val_loss: 0.5185 - val_categorical_accuracy: 0.9211\n",
      "Epoch 10/55\n",
      "11/11 [==============================] - 0s 45ms/step - loss: 0.5225 - categorical_accuracy: 0.8352 - val_loss: 1.0016 - val_categorical_accuracy: 0.8421\n",
      "Epoch 11/55\n",
      "11/11 [==============================] - 0s 45ms/step - loss: 0.3992 - categorical_accuracy: 0.8685 - val_loss: 0.6468 - val_categorical_accuracy: 0.8158\n",
      "Epoch 12/55\n",
      "11/11 [==============================] - 1s 46ms/step - loss: 0.4606 - categorical_accuracy: 0.8704 - val_loss: 0.8338 - val_categorical_accuracy: 0.7895\n",
      "Epoch 13/55\n",
      "11/11 [==============================] - 1s 46ms/step - loss: 0.5276 - categorical_accuracy: 0.8441 - val_loss: 0.9210 - val_categorical_accuracy: 0.7632\n",
      "Epoch 14/55\n",
      "11/11 [==============================] - 0s 45ms/step - loss: 1.2747 - categorical_accuracy: 0.6260 - val_loss: 1.0591 - val_categorical_accuracy: 0.6053\n",
      "Epoch 15/55\n",
      "11/11 [==============================] - 0s 45ms/step - loss: 1.0390 - categorical_accuracy: 0.6519 - val_loss: 0.7530 - val_categorical_accuracy: 0.8158\n",
      "Epoch 16/55\n",
      "11/11 [==============================] - 0s 45ms/step - loss: 0.7492 - categorical_accuracy: 0.7544 - val_loss: 0.4339 - val_categorical_accuracy: 0.8158\n",
      "Epoch 17/55\n",
      "11/11 [==============================] - 1s 46ms/step - loss: 0.4368 - categorical_accuracy: 0.8389 - val_loss: 0.8827 - val_categorical_accuracy: 0.7368\n",
      "Epoch 18/55\n",
      "11/11 [==============================] - 0s 46ms/step - loss: 3.0483 - categorical_accuracy: 0.5958 - val_loss: 1.5729 - val_categorical_accuracy: 0.4737\n",
      "Epoch 19/55\n",
      "11/11 [==============================] - 0s 45ms/step - loss: 1.3368 - categorical_accuracy: 0.5070 - val_loss: 0.9212 - val_categorical_accuracy: 0.6316\n",
      "Epoch 20/55\n",
      "11/11 [==============================] - 0s 45ms/step - loss: 0.8810 - categorical_accuracy: 0.6249 - val_loss: 0.7088 - val_categorical_accuracy: 0.7632\n",
      "Epoch 21/55\n",
      "11/11 [==============================] - 1s 46ms/step - loss: 0.6504 - categorical_accuracy: 0.7265 - val_loss: 0.4402 - val_categorical_accuracy: 0.8421\n",
      "Epoch 22/55\n",
      "11/11 [==============================] - 1s 46ms/step - loss: 0.4737 - categorical_accuracy: 0.8285 - val_loss: 0.2537 - val_categorical_accuracy: 0.9474\n",
      "Epoch 23/55\n",
      "11/11 [==============================] - 0s 45ms/step - loss: 0.2856 - categorical_accuracy: 0.9024 - val_loss: 0.2007 - val_categorical_accuracy: 0.8947\n",
      "Epoch 24/55\n",
      "11/11 [==============================] - 1s 46ms/step - loss: 0.1867 - categorical_accuracy: 0.9340 - val_loss: 0.4197 - val_categorical_accuracy: 0.8421\n",
      "Epoch 25/55\n",
      "11/11 [==============================] - 1s 46ms/step - loss: 0.3274 - categorical_accuracy: 0.8563 - val_loss: 0.2539 - val_categorical_accuracy: 0.9474\n",
      "Epoch 26/55\n",
      "11/11 [==============================] - 1s 46ms/step - loss: 0.3521 - categorical_accuracy: 0.8778 - val_loss: 0.2876 - val_categorical_accuracy: 0.8947\n",
      "Epoch 27/55\n",
      "11/11 [==============================] - 1s 46ms/step - loss: 0.2515 - categorical_accuracy: 0.9267 - val_loss: 0.2285 - val_categorical_accuracy: 0.8947\n",
      "Epoch 28/55\n",
      "11/11 [==============================] - 1s 46ms/step - loss: 0.2161 - categorical_accuracy: 0.9300 - val_loss: 0.2070 - val_categorical_accuracy: 0.9737\n",
      "Epoch 29/55\n",
      "11/11 [==============================] - 0s 46ms/step - loss: 0.1231 - categorical_accuracy: 0.9742 - val_loss: 0.1063 - val_categorical_accuracy: 0.9474\n",
      "Epoch 30/55\n",
      "11/11 [==============================] - 1s 46ms/step - loss: 0.1030 - categorical_accuracy: 0.9689 - val_loss: 0.1050 - val_categorical_accuracy: 0.9474\n",
      "Epoch 31/55\n",
      "11/11 [==============================] - 1s 47ms/step - loss: 0.1003 - categorical_accuracy: 0.9668 - val_loss: 0.0444 - val_categorical_accuracy: 1.0000\n",
      "Epoch 32/55\n",
      "11/11 [==============================] - 1s 47ms/step - loss: 0.2662 - categorical_accuracy: 0.9098 - val_loss: 0.2939 - val_categorical_accuracy: 0.9211\n",
      "Epoch 33/55\n",
      "11/11 [==============================] - 1s 47ms/step - loss: 0.2927 - categorical_accuracy: 0.8821 - val_loss: 0.3000 - val_categorical_accuracy: 0.8947\n",
      "Epoch 34/55\n",
      "11/11 [==============================] - 1s 46ms/step - loss: 0.1230 - categorical_accuracy: 0.9650 - val_loss: 0.2178 - val_categorical_accuracy: 0.9474\n",
      "Epoch 35/55\n",
      "11/11 [==============================] - 1s 47ms/step - loss: 0.1684 - categorical_accuracy: 0.9418 - val_loss: 0.3411 - val_categorical_accuracy: 0.8684\n",
      "Epoch 36/55\n",
      "11/11 [==============================] - 1s 47ms/step - loss: 0.2518 - categorical_accuracy: 0.9304 - val_loss: 0.2538 - val_categorical_accuracy: 0.9474\n",
      "Epoch 37/55\n",
      "11/11 [==============================] - 1s 48ms/step - loss: 0.1515 - categorical_accuracy: 0.9632 - val_loss: 0.0856 - val_categorical_accuracy: 0.9737\n",
      "Epoch 38/55\n",
      "11/11 [==============================] - 1s 49ms/step - loss: 0.0482 - categorical_accuracy: 0.9804 - val_loss: 0.0508 - val_categorical_accuracy: 0.9737\n",
      "Epoch 39/55\n",
      "11/11 [==============================] - 1s 46ms/step - loss: 0.0315 - categorical_accuracy: 0.9913 - val_loss: 0.0233 - val_categorical_accuracy: 1.0000\n",
      "Epoch 40/55\n",
      "11/11 [==============================] - 1s 48ms/step - loss: 0.0216 - categorical_accuracy: 0.9972 - val_loss: 0.0846 - val_categorical_accuracy: 0.9737\n",
      "Epoch 41/55\n",
      "11/11 [==============================] - 1s 51ms/step - loss: 0.0346 - categorical_accuracy: 0.9870 - val_loss: 0.0088 - val_categorical_accuracy: 1.0000\n",
      "Epoch 42/55\n",
      "11/11 [==============================] - 1s 48ms/step - loss: 0.0146 - categorical_accuracy: 0.9983 - val_loss: 0.0571 - val_categorical_accuracy: 0.9737\n",
      "Epoch 43/55\n",
      "11/11 [==============================] - 1s 49ms/step - loss: 0.0153 - categorical_accuracy: 0.9978 - val_loss: 0.0061 - val_categorical_accuracy: 1.0000\n",
      "Epoch 44/55\n",
      "11/11 [==============================] - 1s 47ms/step - loss: 0.0100 - categorical_accuracy: 0.9986 - val_loss: 0.0056 - val_categorical_accuracy: 1.0000\n",
      "Epoch 45/55\n",
      "11/11 [==============================] - 1s 47ms/step - loss: 0.0203 - categorical_accuracy: 0.9945 - val_loss: 0.0066 - val_categorical_accuracy: 1.0000\n",
      "Epoch 46/55\n",
      "11/11 [==============================] - 1s 47ms/step - loss: 0.0081 - categorical_accuracy: 0.9982 - val_loss: 0.0074 - val_categorical_accuracy: 1.0000\n",
      "Epoch 47/55\n",
      "11/11 [==============================] - 1s 106ms/step - loss: 0.0100 - categorical_accuracy: 0.9990 - val_loss: 0.0075 - val_categorical_accuracy: 1.0000\n",
      "Epoch 48/55\n",
      "11/11 [==============================] - 1s 47ms/step - loss: 0.0103 - categorical_accuracy: 0.9983 - val_loss: 0.0050 - val_categorical_accuracy: 1.0000\n",
      "Epoch 49/55\n",
      "11/11 [==============================] - 1s 47ms/step - loss: 0.0069 - categorical_accuracy: 0.9986 - val_loss: 0.0049 - val_categorical_accuracy: 1.0000\n",
      "Epoch 50/55\n"
     ]
    },
    {
     "name": "stdout",
     "output_type": "stream",
     "text": [
      "11/11 [==============================] - 1s 47ms/step - loss: 0.0133 - categorical_accuracy: 0.9967 - val_loss: 0.0050 - val_categorical_accuracy: 1.0000\n",
      "Epoch 51/55\n",
      "11/11 [==============================] - 1s 47ms/step - loss: 0.0075 - categorical_accuracy: 0.9995 - val_loss: 0.0039 - val_categorical_accuracy: 1.0000\n",
      "Epoch 52/55\n",
      "11/11 [==============================] - 0s 46ms/step - loss: 0.0039 - categorical_accuracy: 0.9995 - val_loss: 0.0048 - val_categorical_accuracy: 1.0000\n",
      "Epoch 53/55\n",
      "11/11 [==============================] - 1s 46ms/step - loss: 0.0104 - categorical_accuracy: 0.9983 - val_loss: 0.0048 - val_categorical_accuracy: 1.0000\n",
      "Epoch 54/55\n",
      "11/11 [==============================] - 0s 46ms/step - loss: 0.0106 - categorical_accuracy: 0.9986 - val_loss: 0.0039 - val_categorical_accuracy: 1.0000\n",
      "Epoch 55/55\n",
      "11/11 [==============================] - 1s 48ms/step - loss: 0.0054 - categorical_accuracy: 0.9993 - val_loss: 0.0042 - val_categorical_accuracy: 1.0000\n"
     ]
    }
   ],
   "source": [
    "history2 = model2.fit(X2_train, y2_train, epochs=55, callbacks=[tb_callback],validation_split = 0.1)"
   ]
  },
  {
   "cell_type": "code",
   "execution_count": 38,
   "metadata": {},
   "outputs": [
    {
     "data": {
      "image/png": "[encoded data removed]",
      "text/plain": [
       "<Figure size 432x288 with 1 Axes>"
      ]
     },
     "metadata": {
      "needs_background": "light"
     },
     "output_type": "display_data"
    },
    {
     "data": {
      "image/png": "[encoded data removed]",
      "text/plain": [
       "<Figure size 432x288 with 1 Axes>"
      ]
     },
     "metadata": {
      "needs_background": "light"
     },
     "output_type": "display_data"
    }
   ],
   "source": [
    "#  \"Accuracy\"\n",
    "plt.plot(history2.history['categorical_accuracy'])\n",
    "plt.plot(history2.history['val_categorical_accuracy'])\n",
    "plt.title('model accuracy')\n",
    "plt.ylabel('accuracy')\n",
    "plt.xlabel('epoch')\n",
    "plt.legend(['train', 'validation'], loc='upper left')\n",
    "plt.show()\n",
    "# \"Loss\"\n",
    "plt.plot(history2.history['loss'])\n",
    "plt.plot(history2.history['val_loss'])\n",
    "plt.title('model loss')\n",
    "plt.ylabel('loss')\n",
    "plt.xlabel('epoch')\n",
    "plt.legend(['train', 'validation'], loc='upper left')\n",
    "plt.show()"
   ]
  },
  {
   "cell_type": "code",
   "execution_count": 39,
   "metadata": {},
   "outputs": [
    {
     "data": {
      "text/plain": [
       "array([[[19,  0],\n",
       "        [ 0,  1]],\n",
       "\n",
       "       [[18,  0],\n",
       "        [ 0,  2]],\n",
       "\n",
       "       [[18,  0],\n",
       "        [ 0,  2]],\n",
       "\n",
       "       [[16,  0],\n",
       "        [ 0,  4]],\n",
       "\n",
       "       [[16,  0],\n",
       "        [ 0,  4]],\n",
       "\n",
       "       [[19,  0],\n",
       "        [ 0,  1]],\n",
       "\n",
       "       [[16,  0],\n",
       "        [ 0,  4]],\n",
       "\n",
       "       [[18,  0],\n",
       "        [ 0,  2]]])"
      ]
     },
     "execution_count": 39,
     "metadata": {},
     "output_type": "execute_result"
    }
   ],
   "source": [
    "yhat2 = model2.predict(X2_test)\n",
    "ytrue2 = np.argmax(y2_test, axis=1).tolist()\n",
    "yhat2 = np.argmax(yhat2, axis=1).tolist()\n",
    "\n",
    "multilabel_confusion_matrix(ytrue2, yhat2)\n",
    "\n"
   ]
  },
  {
   "cell_type": "code",
   "execution_count": 40,
   "metadata": {},
   "outputs": [
    {
     "data": {
      "text/plain": [
       "1.0"
      ]
     },
     "execution_count": 40,
     "metadata": {},
     "output_type": "execute_result"
    }
   ],
   "source": [
    "accuracy_score(ytrue2, yhat2)"
   ]
  },
  {
   "cell_type": "markdown",
   "metadata": {},
   "source": [
    "# Save Weights and Load Model"
   ]
  },
  {
   "cell_type": "code",
   "execution_count": 41,
   "metadata": {},
   "outputs": [],
   "source": [
    "# save model\n",
    "model.save('action_arb1.h5')\n",
    "model2.save('action_arb2.h5')\n",
    "\n"
   ]
  },
  {
   "cell_type": "code",
   "execution_count": 41,
   "metadata": {},
   "outputs": [],
   "source": [
    "#load model\n",
    "# 1. run model structure\n",
    "# 2. run model compilation\n",
    "\n",
    "model.load_weights('action_arb1.h5')\n",
    "model2.load_weights('action_arb2.h5')"
   ]
  },
  {
   "cell_type": "markdown",
   "metadata": {},
   "source": [
    "# Test in Real Time"
   ]
  },
  {
   "cell_type": "code",
   "execution_count": 34,
   "metadata": {},
   "outputs": [],
   "source": [
    "from scipy import stats"
   ]
  },
  {
   "cell_type": "code",
   "execution_count": 33,
   "metadata": {},
   "outputs": [],
   "source": [
    "colors = [(117,245,16), (16,117,245), (16,117,245), (16,117,245), (16,117,245), (16,117,2), (16,117,2), (16,117,2)]\n",
    "def prob_viz(res, actions, input_frame, colors):\n",
    "    output_frame = input_frame.copy()\n",
    "    for num, prob in enumerate(res):\n",
    "        cv2.rectangle(output_frame, (0,60+num*40), (int(prob*100), 90+num*40), colors[num], -1)\n",
    "        cv2.putText(output_frame, actions[num], (0, 85+num*40), cv2.FONT_HERSHEY_SIMPLEX, 1, (255,255,255), 2, cv2.LINE_AA)\n",
    "        \n",
    "    return output_frame"
   ]
  },
  {
   "cell_type": "code",
   "execution_count": 2,
   "metadata": {},
   "outputs": [
    {
     "ename": "NameError",
     "evalue": "name 'cv2' is not defined",
     "output_type": "error",
     "traceback": [
      "\u001b[0;31m---------------------------------------------------------------------------\u001b[0m",
      "\u001b[0;31mNameError\u001b[0m                                 Traceback (most recent call last)",
      "\u001b[0;32m<ipython-input-2-24cbf4ff4093>\u001b[0m in \u001b[0;36m<module>\u001b[0;34m\u001b[0m\n\u001b[1;32m      5\u001b[0m \u001b[0mthreshold\u001b[0m \u001b[0;34m=\u001b[0m \u001b[0;36m0.95\u001b[0m\u001b[0;34m\u001b[0m\u001b[0;34m\u001b[0m\u001b[0m\n\u001b[1;32m      6\u001b[0m \u001b[0;34m\u001b[0m\u001b[0m\n\u001b[0;32m----> 7\u001b[0;31m \u001b[0mcap\u001b[0m \u001b[0;34m=\u001b[0m \u001b[0mcv2\u001b[0m\u001b[0;34m.\u001b[0m\u001b[0mVideoCapture\u001b[0m\u001b[0;34m(\u001b[0m\u001b[0;36m0\u001b[0m\u001b[0;34m)\u001b[0m\u001b[0;34m\u001b[0m\u001b[0;34m\u001b[0m\u001b[0m\n\u001b[0m\u001b[1;32m      8\u001b[0m \u001b[0;31m# Set mediapipe model\u001b[0m\u001b[0;34m\u001b[0m\u001b[0;34m\u001b[0m\u001b[0;34m\u001b[0m\u001b[0m\n\u001b[1;32m      9\u001b[0m \u001b[0;31m#with mp_holistic.Holistic(static_image_mode=True,model_complexity=1,smooth_landmarks=True,min_detection_confidence=0.3,\u001b[0m\u001b[0;34m\u001b[0m\u001b[0;34m\u001b[0m\u001b[0;34m\u001b[0m\u001b[0m\n",
      "\u001b[0;31mNameError\u001b[0m: name 'cv2' is not defined"
     ]
    }
   ],
   "source": [
    "# 1. New detection variables\n",
    "sequence = []\n",
    "sentence = []\n",
    "predictions = []\n",
    "threshold = 0.95\n",
    "\n",
    "cap = cv2.VideoCapture(0)\n",
    "# Set mediapipe model \n",
    "#with mp_holistic.Holistic(static_image_mode=True,model_complexity=1,smooth_landmarks=True,min_detection_confidence=0.3,\n",
    "                          #min_tracking_confidence=0.5) as holistic:\n",
    "with mp_holistic.Holistic(min_detection_confidence=0.7, min_tracking_confidence=0.7) as holistic:\n",
    "    while cap.isOpened():\n",
    "\n",
    "        # Read feed\n",
    "        ret, frame = cap.read()\n",
    "\n",
    "        # Make detections\n",
    "        image, results = mediapipe_detection(frame, holistic)\n",
    "        print(results)\n",
    "        \n",
    "        # Draw landmarks\n",
    "        draw_styled_landmarks(image, results)\n",
    "        \n",
    "        # 2. Prediction logic\n",
    "        keypoints = extract_keypoints(results)\n",
    "        sequence.append(keypoints)\n",
    "        sequence = sequence[-30:]\n",
    "        \n",
    "        if len(sequence) == 30:\n",
    "            res = model.predict(np.expand_dims(sequence, axis=0))[0]\n",
    "            print(actions[np.argmax(res)])\n",
    "            predictions.append(np.argmax(res))\n",
    "            \n",
    "            \n",
    "        #3. Viz logic\n",
    "            if np.unique(predictions[-10:])[0]==np.argmax(res): \n",
    "                if res[np.argmax(res)] > threshold: \n",
    "                    \n",
    "                    if len(sentence) > 0: \n",
    "                        if actions[np.argmax(res)] != sentence[-1]:\n",
    "                            sentence.append(actions[np.argmax(res)])\n",
    "                    else:\n",
    "                        sentence.append(actions[np.argmax(res)])\n",
    "\n",
    "            if len(sentence) > 5: \n",
    "                sentence = sentence[-5:]\n",
    "\n",
    "            # Viz probabilities\n",
    "            image = prob_viz(res, actions, image, colors)\n",
    "            \n",
    "        cv2.rectangle(image, (0,0), (640, 40), (245, 117, 16), -1)\n",
    "        #cv2.putText(image, ' '.join(sentence), (3,30), \n",
    "         #              cv2.FONT_HERSHEY_SIMPLEX, 1, (255, 255, 255), 2, cv2.LINE_AA)\n",
    "        cv2.putText(image, '{} - {:.2f}'.format(sentence[-1:],res[np.argmax(res)]),(3,30), \n",
    "                       cv2.FONT_HERSHEY_SIMPLEX, 1, (255, 255, 255), 2, cv2.LINE_AA)\n",
    "        \n",
    "        # Show to screen\n",
    "        cv2.imshow('OpenCV Feed', image)\n",
    "\n",
    "        # Break gracefully\n",
    "        if cv2.waitKey(10) & 0xFF == ord('q'):\n",
    "            break\n",
    "    cap.release()\n",
    "    cv2.destroyAllWindows()"
   ]
  },
  {
   "cell_type": "markdown",
   "metadata": {},
   "source": [
    "# Consideraciones Finales\n",
    "\n",
    "Se construyeron 2 modelos de 8 señas arbitrales cada uno para facilitar el proceso de prediccion en la fase de lanzamiento. Los modelos lograron a su vez un accuracy de mas de 95% que era la meta pactada al inicio del proyecto.\n",
    "\n",
    "Modelo 1:\n",
    "\n",
    "* Acuraccy: 1.0\n",
    "\n",
    "* señas: 'punta en linea','ataque','tocado','no valido','parada','tocado doble','nada', 'listos'\n",
    "\n",
    "Modelo 2:\n",
    "\n",
    "* Accuracy: 1.0\n",
    "\n",
    "* Señas: 'adelante','enguardia','punto izquierda','punto doble','no','incorrecto','alto','simultaneo'\n",
    "\n",
    "En este punto podemos realizar el lanzamiento de los modelos para ser utilizados por las personas para practicar las señas y posturas de arbitraje de esgrima.\n"
   ]
  },
  {
   "cell_type": "markdown",
   "metadata": {},
   "source": [
    "# Fuentes "
   ]
  },
  {
   "cell_type": "markdown",
   "metadata": {},
   "source": [
    "\n",
    "Basado en https://www.youtube.com/watch?v=doDUihpj6ro&t=7833s\n",
    "\n",
    "GitHub -> https://github.com/nicknochnack/ActionDetectionforSignLanguage\n"
   ]
  }
 ],
 "metadata": {
  "kernelspec": {
   "display_name": "Python 3",
   "language": "python",
   "name": "python3"
  },
  "language_info": {
   "codemirror_mode": {
    "name": "ipython",
    "version": 3
   },
   "file_extension": ".py",
   "mimetype": "text/x-python",
   "name": "python",
   "nbconvert_exporter": "python",
   "pygments_lexer": "ipython3",
   "version": "3.8.10"
  }
 },
 "nbformat": 4,
 "nbformat_minor": 4
}
