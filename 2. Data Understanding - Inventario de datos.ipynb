{
 "cells": [
  {
   "cell_type": "markdown",
   "metadata": {},
   "source": [
    "# 2. Data Understanding\n",
    "\n",
    "Author: Lucas Stucky\\\n",
    "Last modification date: 6 jul 2021"
   ]
  },
  {
   "cell_type": "markdown",
   "metadata": {},
   "source": [
    "### Diccionario de Datos\n",
    "\n",
    "Las posturas arbitrales de esgrima a partir de las cuales se hará la recolección de los puntos corporales para la estimación de postura y el entrenamiento del modelo, se encuentran en el reglamento técnico de la Federación Internacional de Esgrima (FIE):"
   ]
  },
  {
   "cell_type": "markdown",
   "metadata": {},
   "source": [
    "Localización de los Datos| url|Descripción\n",
    "------------|---|--------\n",
    "Federación Internacional de Esgrima (FIE)|https://static.fie.org/uploads/25/127073-technical%20rules%20ang.pdf|Información acerca de las postruas arbitrales oficiales\n"
   ]
  },
  {
   "cell_type": "markdown",
   "metadata": {},
   "source": [
    "Las competencias de esgrima se componen de 2 fases:\n",
    "    1. Fase de Poules (grupos) \n",
    "En esta primera fase, de todos los inscritos en la competencia, se realizan grupos de máximo 7 atletas en donde se juega todos contra todos en combates a 5 puntos.\n",
    "De acuerdo a los resultados en la fase de grupos, los esgrimistas son organizados orden de rendimiento, iniciando con el Indicador de la Poule (numero de victorias obtenidas en la fase de grupos/ numero de combates realizados), y en caso de empate entran otras variables a desempatar la posición de los atletas como lo son los toques a favor, toques en contra, etc.\n",
    "Segun la reglamentación especifica de cada competencia, es posible en en algunas de ellas:\n",
    "    • Los esgrimistas mejor rankeados previo a la competencia sean exentos de jugar la fase de grupos y pasen directo a los cuadros de eliminación directa \n",
    "    • Un porcentaje predeterminado al inicio de la competencia del total de competidores sea eliminado en la fase de grupos y solo el % restante avance a la fase de eliminación directa. \n",
    "    2. Fase de Eliminación directa \n",
    "En la fase de eliminación directa se encuentran en llaves los esgrimistas 1 vs 1 a combates a 15 puntos en donde el esgrimista ganador avanza y el perdedor es eliminado de la competencia. Los cuadros son determinados por el numero de competidores que ingresan a la competencia. Ej. Cuadro de 64 significa que hay 64 tiradores en esa ronda, en algunas competencias pueden encontrarse hasta cuadros de 256.\n",
    "En las Copas del Mundo, Gran Prix y Campeonatos Mundiales organizados por la Federación Internacional es posible encontrar cuadros preliminares de 256, 128 y 64, para decantar el numero de esgrimistas que ingresen al cuadro principal de 64 en donde los 16 mejores esgrimistas por Ranking Internacional ingresan directo a esa ronda.\n",
    "\n",
    "Todos los combates tanto de fase de poule (combate a 5 puntos) como de eliminación directa (combate a 15 puntos) son dirigidas por árbitros de esgrima, quienes son los encargados de controlar el combate. El árbitro al inicio durante todo el combate orienta a los esgrimistas mediante posturas corporales que indican los hechos sucedidos en el punto acompañado de un comentario."
   ]
  },
  {
   "cell_type": "markdown",
   "metadata": {},
   "source": [
    "### Inventario de Datos\n",
    "De acuerdo con el reglamento técnico de esgrima, las posturas arbitrales utilizadas por el árbitro de esgrima durante el combate son:\n",
    "\n",
    "* 1. En guardia\n",
    "\n",
    "![En Guardia](img/guardia.PNG)\n",
    "\n",
    "* 2. Listos\n",
    "\n",
    "![Listos](img/listos.PNG)\n",
    "\n",
    "* 3. Adelante\n",
    "\n",
    "![Adelante](img/adelante.PNG)\n",
    "\n",
    "* 4. Alto\n",
    "\n",
    "![Alto](img/alto.PNG)\n",
    "\n",
    "* 5. Punta en Línea\n",
    "\n",
    "![Punta en Línea](img/punta_en_linea.PNG)\n",
    "\n",
    "* 6. Ataque - Detención - Contraataque\n",
    "\n",
    "![Ataque](img/ataque.PNG)\n",
    "\n",
    "* 7. Tocado\n",
    "\n",
    "![tocado](img/tocado.PNG)\n",
    "\n",
    "* 8. Punto\n",
    "\n",
    "![Punto](img/punto.PNG)\n",
    "\n",
    "* 9. No válido\n",
    "\n",
    "![No válido](img/no_valido.PNG)\n",
    "\n",
    "* 10. Parada - Contra-tiempo\n",
    "\n",
    "![Parada](img/alto.PNG)\n",
    "\n",
    "* 11. Tocado Doble\n",
    "\n",
    "![Toque doble](img/toque_doble.PNG)\n",
    "\n",
    "* 12. Ataque doble\n",
    "\n",
    "![Toque doble](img/punto_doble.PNG)\n",
    "\n",
    "* 13. Punto doble\n",
    "\n",
    "![Ataque doble](img/ataque_doble.PNG)\n",
    "\n",
    "* 14. Ningún Punto\n",
    "\n",
    "![Ningún punto](img/ningun_punto.PNG)\n",
    "\n",
    "* 15. No\n",
    "\n",
    "![No](img/ataque_no.PNG)\n",
    "\n",
    "* 16. Ataque Incorrecto\n",
    "\n",
    "![Ataque incorrecto](img/ataque_incorrecto.PNG)\n",
    "\n",
    "\n",
    "\n",
    "Fuente de las imagenes: Reglamento Técnico de la FIE"
   ]
  },
  {
   "cell_type": "markdown",
   "metadata": {},
   "source": [
    "### Bibliografía\n",
    "\n",
    "1. International Fencing Federation. Reglamento técnico 2021. https://fie.org/fie/documents/rules"
   ]
  },
  {
   "cell_type": "code",
   "execution_count": null,
   "metadata": {},
   "outputs": [],
   "source": []
  }
 ],
 "metadata": {
  "kernelspec": {
   "display_name": "Python 3",
   "language": "python",
   "name": "python3"
  },
  "language_info": {
   "codemirror_mode": {
    "name": "ipython",
    "version": 3
   },
   "file_extension": ".py",
   "mimetype": "text/x-python",
   "name": "python",
   "nbconvert_exporter": "python",
   "pygments_lexer": "ipython3",
   "version": "3.8.10"
  }
 },
 "nbformat": 4,
 "nbformat_minor": 4
}
