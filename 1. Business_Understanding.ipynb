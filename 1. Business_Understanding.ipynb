{
 "cells": [
  {
   "cell_type": "markdown",
   "metadata": {},
   "source": [
    "# IDENTIFICACIÓN DE POSTURAS CORPORALES PARA EL APRENDIZAJE VIRTUAL DE JUZGAMIENTO EN ESGRIMA PARA LA FEDERACIÓN COLOMBIANA DE ESGRIMA"
   ]
  },
  {
   "cell_type": "markdown",
   "metadata": {},
   "source": [
    "# 1. Business Understanding "
   ]
  },
  {
   "cell_type": "markdown",
   "metadata": {},
   "source": [
    "### Contexto General\n",
    "\n",
    "La Federación Colombiana de Esgrima es el ente rector de la Esgrima a nivel nacional, encargada de la planificación, administración, promoción y desarrollo del deporte de la esgrima en Colombia, a través de la gestión de recursos públicos y privados, para llevar a los esgrimistas colombianos a conseguir los más altos logros y resultados deportivos a nivel internacional. \n",
    "Dentro de los objetivos de la organización se encuentra el desarrollo y la masificación del deporte a nivel nacional, aumentando la cobertura territorial y la cantidad de practicantes. Es importante resaltar que el desarrollo del deporte a nivel nacional y el aumento de practicantes de esgrima tiene 3 componentes que lo soportan, y que deben fortalecerse y crecer de manera equilibrada para que el deporte crezca de manera estable y ordenada como lo son: Entrenadores, Árbitros y Dirigentes deportivos. (Figura mesa)."
   ]
  },
  {
   "cell_type": "markdown",
   "metadata": {},
   "source": [
    "El aumento en la cantidad y calidad de entrenadores, árbitros y dirigentes deportivos requiere de actividades de captación y capacitación de nuevas personas que puedan cumplir estos roles dentro de los procesos de desarrollo y masificación deportiva.\n",
    "\n",
    "A partir del 2020, el Covid19 impactó y modifico el sector educativo de manera particular, puesto que ha obligado a todas las instituciones a reinventarse y adaptarse a la nueva realidad de aprendizaje no presencial. En este sentido, la pandemia trajo consigo grandes retos y dificultades, pero también grandes oportunidades. Algunos de los desafíos incluyen el entorno de aprendizaje, la calidad de los contenidos digitales, la desigualdad digital y la violación/invasión de la privacidad digital [1]. Por otra parte, las oportunidades se ven reflejadas en la posibilidad de aumentar la cobertura de los programas de formación y capacitación, permitiendo a mas personas y de distintos lugares recibir contenidos educativos con un costo logístico muy bajo, mediante actividades de aprendizaje virtual sincrónicas o asincrónicas.\n",
    "\n",
    "En este sentido, La Federación Colombiana de Esgrima, en 2020 lanzó su propio ambiente de aprendizaje web con el fin de continuar con sus procesos de formación de personal técnico, y con el objetivo de aumentar su cobertura deportiva nacional. Mediante la plataforma Académica de la FCE, se lograron realizar cursos de entrenadores y árbitros de manera sincrónica, juntando los maestros capacitadores con aprendices en todas las regiones del país. "
   ]
  },
  {
   "cell_type": "markdown",
   "metadata": {},
   "source": [
    "![Académia de Formación FCE](img/academia_FCE.PNG)\n",
    "\n",
    "Fuente: https://formacion.fedesgrimacolombia.com/"
   ]
  },
  {
   "cell_type": "markdown",
   "metadata": {},
   "source": [
    "A pesar del éxito alcanzado con la plataforma en los procesos de formación y capacitación de entrenadores y árbitros de esgrima. Los cursos de formación realizados han presentado grandes dificultades en el aprendizaje de técnicas deportivas como también de las posiciones corporales de las jueces requeridas para las indicaciones arbitrales. \n",
    "\n",
    "Estas dificultades presentadas, son particulares del aprendizaje deportivo en donde la interacción maestro- alumno en la ejecución guiada y corrección instantánea en la practica de posturas corporales idóneas se ve altamente afectada por el aprendizaje virtual.\n",
    "\n",
    "Es por ello, que las técnicas de estimación corporal y de aprendizaje de maquina surgen como una posibilidad de solucionar esta problemática de aprendizaje de posturas corporales mediante la práctica y corrección instantánea.\n",
    "\n",
    "\"La estimación de la postura humana a partir del vídeo desempeña un papel fundamental en diversas aplicaciones, como la cuantificación de ejercicios físicos, el reconocimiento del lenguaje de signos y el control de gestos de todo el cuerpo. Por ejemplo, puede ser la base de aplicaciones de yoga, danza y fitness. También puede permitir la superposición de contenidos e información digital sobre el mundo físico en la realidad aumentada\"[3].\n",
    "\n",
    "\n",
    "### Objetivo del proyecto\n",
    "\n",
    "Crear un modelo de clasificación de posturas corporales de arbitraje que permita la práctica y corrección de los alumnos en sus posiciones sin la presencia del maestro. \n",
    "Métricas de cumplimiento del objetivo\n",
    "Un modelo con una precisión superior al 90% en la clasificación de las posturas arbitrales\n",
    "Fases del proyecto\n",
    "    1. Captura de los datos y videos de las posturas arbitrales de esgrima para el entrenamiento del modelo\n",
    "    2. Diseño y entrenamiento del modelo\n",
    "    3. Evaluación de la precisión del modelo y ajustes pertinentes para mejorarlo\n",
    "    4. Desarrollo de una herramienta que permita el uso del modelo en tiempo real\n",
    "    5. Lanzamiento de la herramienta de clasificación de posturas arbitrales de esgrima."
   ]
  },
  {
   "cell_type": "markdown",
   "metadata": {},
   "source": [
    "### Plan del Proyecto\n",
    "\n",
    "Phase | Time | Resources \n",
    "------|------|-----------\n",
    "Business understanding|1 semana|información empresarial|\n",
    "Data understanding|2 Semana|Analista principal\n",
    "Data preparation|3 Semanas|Analista pincipal\n",
    "Modeling|2 semana|Analista principal\n",
    "Evaluation|1 semana|Analista principal y personal tecnico\n",
    "Deployment|1 semana|Analista principal y personal especializado de apoyo\n"
   ]
  },
  {
   "cell_type": "markdown",
   "metadata": {},
   "source": [
    "### Bibliografía\n",
    "\n"
   ]
  },
  {
   "cell_type": "markdown",
   "metadata": {},
   "source": [
    "1. Khlaif, Z., Salha, S. (2020). The Unanticipated Educational Challenges of Developing Countries in Covid-19 Crisis: A Brief Report. Interdisciplinary Journal of Virtual Learning in Medical Sciences, 11(2), 130-134. doi: 10.30476/ijvlms.2020.86119.1034\n",
    "\n",
    "\n",
    "2. Toshev, A., & Szegedy, C. (2014). Deeppose: Human pose estimation via deep neural networks. In Proceedings of the IEEE conference on computer vision and pattern recognition (pp. 1653-1660).\n",
    "\n",
    "\n",
    "3. MediaPipe Documentation. MediaPipe Pose. 2021 https://google.github.io/mediapipe/solutions/pose.html\n",
    "\n",
    "\n",
    "4. International Fencing Federation. Reglamento técnico 2021. https://fie.org/fie/documents/rules"
   ]
  },
  {
   "cell_type": "code",
   "execution_count": null,
   "metadata": {},
   "outputs": [],
   "source": []
  }
 ],
 "metadata": {
  "kernelspec": {
   "display_name": "Python 3",
   "language": "python",
   "name": "python3"
  },
  "language_info": {
   "codemirror_mode": {
    "name": "ipython",
    "version": 3
   },
   "file_extension": ".py",
   "mimetype": "text/x-python",
   "name": "python",
   "nbconvert_exporter": "python",
   "pygments_lexer": "ipython3",
   "version": "3.8.5"
  }
 },
 "nbformat": 4,
 "nbformat_minor": 4
}
