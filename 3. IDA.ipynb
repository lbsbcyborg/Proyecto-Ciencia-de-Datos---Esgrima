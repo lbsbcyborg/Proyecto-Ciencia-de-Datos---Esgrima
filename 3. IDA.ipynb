{
 "cells": [
  {
   "cell_type": "markdown",
   "metadata": {},
   "source": [
    "# 3. Initial Data Analysis"
   ]
  },
  {
   "cell_type": "markdown",
   "metadata": {},
   "source": [
    "La determinación de la postura corporal se realiza mediante la identificación y estimación de puntos corporales a través de modelos de aprendizaje de maquina. \n",
    "\n",
    "En este caso, usaremos los APIs de MediaPipe para estimar la postura corporal y las manos. Para la determinación de la postura corporal, MediaPipe Pose utiliza 33 puntos corporales ubicados en diferentes partes del cuerpo como lo vemos en la siguiente figura:"
   ]
  },
  {
   "cell_type": "markdown",
   "metadata": {},
   "source": [
    "![MediaPipe Pose](img/pose_tracking_full_body_landmarks.png)\n",
    "\n",
    "Fuente: MediaPipe Pose"
   ]
  },
  {
   "cell_type": "markdown",
   "metadata": {},
   "source": [
    "Así mismo, para la estimación de las manos, usaremos los modelos de estimación de la mano de MediaPipe Hands para la estimación de los 21 puntos ubicados en la mano y sus coordenadas."
   ]
  },
  {
   "cell_type": "markdown",
   "metadata": {},
   "source": [
    "![MediaPipe Hand](img/hand_landmarks.png)\n",
    "\n",
    "Fuente: MediaPipe Hands"
   ]
  },
  {
   "cell_type": "markdown",
   "metadata": {},
   "source": [
    "la combinación de estos dos modelos nos ayuda a estimar por completo la postura corporal del sujeto en la imagen o el video junto con sus 2 manos con un total de 75 puntos estimados en el cuerpo humano.\n",
    "\n",
    "Cada punto identificado consiste de coordenadas X, Y y Z para los 33 puntos de la postura corporal como para los 21 puntos de cada mano, así como un valor de visibilidad que indica la probabilidad de que ese punto corporal este visible o no en la imagen (unicamente encontrado en los 33 puntos de la postura corporal). Por lo cual, el total de datos capturados en cada imagen son: (33 * 4) + (21 * 3) + (21 * 3) = 258"
   ]
  },
  {
   "cell_type": "markdown",
   "metadata": {},
   "source": [
    "### Ejemplo\n",
    "\n",
    "Para ver un ejemplo de como funciona la estimación de la postura corporal y las manos usando MediaPipe seguiremos la guia encontrada en el proyecto de GitHub de Nicholas Renotte \"Action Detection for Sign Language\"[1]. En la siguiente imagen, se puede ver los puntos corporales superiores y los de la mano izquierda"
   ]
  },
  {
   "cell_type": "markdown",
   "metadata": {},
   "source": [
    "![landmarks_example](img/image-2.png)\n",
    "\n",
    "Fuente: Elaboración Propia"
   ]
  },
  {
   "cell_type": "markdown",
   "metadata": {},
   "source": [
    "### Análisis de las posturas arbitrales de Esgrima con Pose Estimation\n",
    "\n",
    "\n",
    "Como las señas arbitrales no son posturas estáticas sino involucran un movimiento de los brazos, para la identificación de las señas y posturas arbitrales se tendrá que utilizar un video compuesto de varias imágenes en cadena en lugar de una única imagen estática de la postura final.\n",
    "\n",
    "Para ello, se seleccionó una ventana de 30 imágenes (Frames) para los videos durante los cuales se realiza la seña o postura arbitral. Estos videos serán el Input para la creación del modelo de clasificación de señas arbitrales.\n",
    "\n",
    "A continuación, se muestran los videos de las distintas señas arbitrales necesarias en el proyecto:"
   ]
  },
  {
   "cell_type": "markdown",
   "metadata": {},
   "source": [
    "#### 1. Enguardia\n",
    "\n",
    "Para realizar la posición de 'En guardia', se inicia con los brazos a los costados del cuerpo, luego elevando las manos al nivel del codo con las palmas de las manos mirando hacia el suelo.\n",
    "\n",
    "![landmarks_example](img/videos_posturas/enguardia.gif)"
   ]
  },
  {
   "cell_type": "markdown",
   "metadata": {},
   "source": [
    "#### 2. Listos\n",
    "\n",
    "Para realizar la seña de 'listos', se parte de la posición final de En guardia, con las palmas hacia abajo. A partir de esa posición, se rota la muñeca 90° para que la palma de la mano quede mirando hacia el frente. Los brazos quedan estáticos.\n",
    "\n",
    "![landmarks_example](img/videos_posturas/listos.gif)"
   ]
  },
  {
   "cell_type": "markdown",
   "metadata": {},
   "source": [
    "#### 3. Adelante\n",
    "\n",
    "Para la seña de ‘adelante’, se parte de la posición de listos; luego se llevan las manos hacia el centro para que finalicen las palmas de las manos mirándose entre si, a la altura de la cintura.\n",
    "\n",
    "![landmarks_example](img/videos_posturas/adelante.gif)"
   ]
  },
  {
   "cell_type": "markdown",
   "metadata": {},
   "source": [
    "#### 4. Alto\n",
    "\n",
    "Para realizar la posición de 'alto', se inicia con los brazos a los costados del cuerpo. Luego se eleva la mano y el brazo de frente, finalizando con la palma de la mano mirando al frente, por encima de la cabeza, y con el brazo semi extendido hacia adelante.\n",
    "\n",
    "![landmarks_example](img/videos_posturas/alto.gif)"
   ]
  },
  {
   "cell_type": "markdown",
   "metadata": {},
   "source": [
    "#### 5. Punta en Línea\n",
    "\n",
    "Para realizar la seña de ‘punta en línea’, se inicia con los brazos a los costados del cuerpo, luego se eleva el brazo hacia el costado hasta formar un ángulo de 90° entre el brazo y el tronco. La posición finaliza con el brazo totalmente extendido y con la mano cerrada a excepción del dedo indice.\n",
    "\n",
    "![landmarks_example](img/videos_posturas/puntaenlinea.gif)"
   ]
  },
  {
   "cell_type": "markdown",
   "metadata": {},
   "source": [
    "#### 6. Ataque\n",
    "\n",
    "Para realizar la seña de 'ataque', se inicia con los brazos al costado del cuerpo, luego se sube la mano y el antebrazo hacia el lado hasta que la mano quede a la altura del codo, la posición finaliza con la palma de la mano hacia el suelo y los dedos hacia abajo, formando un ángulo de 90° entre la palma y los dedos.\n",
    "\n",
    "![landmarks_example](img/videos_posturas/ataque.gif)"
   ]
  },
  {
   "cell_type": "markdown",
   "metadata": {},
   "source": [
    "#### 7. Tocado\n",
    "\n",
    "Para realizar la seña de ‘tocado’, se inicia con los brazos a los costados del cuerpo, luego se eleva el brazo hacia el costado hasta formar un ángulo de 90° entre el brazo y el tronco. La posición finaliza con el brazo totalmente extendido y con la mano abierta y extendida con la palma de la mano hacia el frente.\n",
    "\n",
    "![landmarks_example](img/videos_posturas/tocado.gif)"
   ]
  },
  {
   "cell_type": "markdown",
   "metadata": {},
   "source": [
    "#### 8. Punto\n",
    "\n",
    "Para realizar la seña de ‘punto’, se inicia con los brazos al costado del cuerpo, luego, se levanta el brazo hacia el lado, formando un ángulo de 90° entre el brazo y el tronco, así como un ángulo de 90° entre el brazo y el antebrazo. Por último, la mano extendida con la palma de la mano hacia el frente.\n",
    "\n",
    "![landmarks_example](img/videos_posturas/punto.gif)"
   ]
  },
  {
   "cell_type": "markdown",
   "metadata": {},
   "source": [
    "#### 9. No Válido\n",
    "\n",
    "Para realizar la seña de ‘No válido’, se inicia con los brazos al costado del cuerpo, luego se levanta el brazo hacia el costado formando un angulo de alrededor de 45° entre el brazo y el tronco, la mano extendida y el dorso de la mano mirando hacia el frente. A partir de esta posición, se inmoviliza el codo y la mano se mueve hacia el tronco y de vuelta, en forma de péndulo. \n",
    "\n",
    "![landmarks_example](img/videos_posturas/no_valido.gif)"
   ]
  },
  {
   "cell_type": "markdown",
   "metadata": {},
   "source": [
    "#### 10. Parada\n",
    "\n",
    "Para realizar la seña de ‘parada’, se inicia con los brazos al costado del cuerpo, luego se levanta un brazo hacia arriba por adelante hasta formar ángulos de 90° entre el tronco y el brazo, así como entre el brazo y el antebrazo. Al mismo tiempo se levanta el otro brazo hacia arriba por el frente, girando el brazo de lado para ubicar la mano cruzando el antebrazo opuesto, formando una cruz entre la mano y el antebrazo. \n",
    "\n",
    "![landmarks_example](img/videos_posturas/parada2.gif)"
   ]
  },
  {
   "cell_type": "markdown",
   "metadata": {},
   "source": [
    "#### 11. Tocado doble\n",
    "\n",
    "Para realizar la seña de ‘tocado doble’, se inicia con los brazos al costado del cuerpo, luego se levantan ambos brazos hacia los lados, hasta formar ángulos de 90° entre los brazos y el tronco, con las manos extendidas y la palma de la mano mirando hacia el frente. \n",
    "\n",
    "![landmarks_example](img/videos_posturas/tocadodoble.gif)"
   ]
  },
  {
   "cell_type": "markdown",
   "metadata": {},
   "source": [
    "#### 12. Punto doble\n",
    "\n",
    "Para realizar la seña de ‘tocado doble’, se inicia con los brazos al costado del cuerpo, luego se levantan ambos brazos hacia los lados, hasta formar ángulos de 90° entre los brazos y el tronco y ángulos de 90° entre los brazos y los antebrazos, con las manos extendidas y la palma de la mano mirando hacia el frente. \n",
    "\n",
    "![landmarks_example](img/videos_posturas/toquedoble.gif)"
   ]
  },
  {
   "cell_type": "markdown",
   "metadata": {},
   "source": [
    "#### 13. Ataque simultáneo\n",
    "\n",
    "Para realizar la seña de 'ataque simultáneo', se inicia con los brazos al costado del cuerpo, luego se suben la mano y el antebrazo de ambos brazos hacia el lado hasta que la mano quede a la altura del codo, la posición finaliza con la palma de la mano hacia el suelo y los dedos hacia abajo, formando un ángulo de 90° entre la palma y los dedos.\n",
    "\n",
    "![landmarks_example](img/videos_posturas/ataques.gif)"
   ]
  },
  {
   "cell_type": "markdown",
   "metadata": {},
   "source": [
    "#### 14. Ningún punto\n",
    "\n",
    "Para realizar la seña de ‘ningún punto’, se inicia con los brazos al costado del cuerpo, luego se levanta el brazo hacia el costado formando un angulo de alrededor de 45° entre el brazo y el tronco, la mano extendida y el dorso de la mano mirando hacia el frente. A partir de esta posición, se mueve el brazo extendido hacia el tronco, cruzando los brazos en el centro y de vuelta a la posición inicial, en forma de péndulo. \n",
    "\n",
    "![landmarks_example](img/videos_posturas/nada.gif)"
   ]
  },
  {
   "cell_type": "markdown",
   "metadata": {},
   "source": [
    "#### 15. No\n",
    "\n",
    "Para realizar la seña de ‘No’, se inicia con los brazos al costado del cuerpo, luego, se levanta el brazo hacia el lado, formando un ángulo de 90° entre el brazo y el tronco, así como un ángulo de 90° entre el brazo y el antebrazo, con la mano cerrado salvo el dedo indice, que permanece extendido. A partir de esta posición, se inmoviliza el codo y la mano se mueve en dirección a la cabeza y vuelve, 2 veces.\n",
    "\n",
    "![landmarks_example](img/videos_posturas/no.gif)"
   ]
  },
  {
   "cell_type": "markdown",
   "metadata": {},
   "source": [
    "#### 16. Ataque incorrecto\n",
    "\n",
    "Para realizar la seña de 'ataque incorrecto', se inicia con los brazos al costado del cuerpo, luego se sube la mano y el antebrazo hacia el lado hasta que la mano quede a la altura de la cadera, con la mano cerrada en puño. A partir de esta posición, el codo se mueve hacia el cuerpo y de regreso, manteniendo el antebrazo y la mano inmóviles. \n",
    "\n",
    "![landmarks_example](img/videos_posturas/ataq_incorrecto.gif)"
   ]
  },
  {
   "cell_type": "markdown",
   "metadata": {},
   "source": [
    "Al analizar las distintas señas y posturas de arbitraje según el reglamento de la Federación Internacional de Esgrima. Encontramos que existen algunas señas que tienen una patrón de movimiento corporal similar, el cual podría generar inconvenientes y dificultades al momento de una correcta identificación y clasificación por parte del modelo.\n",
    "\n",
    "Por ejemplo, al observar las señas de:\n",
    "\n",
    "* En guardia\n",
    "* Ataque simultáneo\n",
    "\n",
    "En guardia | Ataque simultáneo\n",
    "- | - \n",
    "![alt](img/videos_posturas/enguardia.gif) | ![alt](img/videos_posturas/ataques.gif)\n",
    "\n",
    "Ambas inician con los brazos al costado del cuerpo, se elevan los antebrazos hacia el lado hasta el nivel del codo, con las palmas de la mano mirando hacia el suelo. En este caso la única diferencia esta en la posición de los dedos y la mano, en donde en la seña de ‘en guardia’ esta la mano totalmente extendida, mientras que en la seña de ataque simultaneo los dedos se encuentran doblados formando un ángulo de 90° con respecto a la palma de la mano. Sin embargo, la posición de todos los demás puntos corporales es la misma. \n",
    "\n",
    "En este sentido, como la variación es muy poca y en muy pocos puntos de las manos, es posible que el modelo presente dificultades en diferenciar ambas señas.\n",
    "\n",
    "Casos similares podrían ocurrir entre la seña de ‘tocado’ y de ‘punta en línea’, y en menor medida en las posiciones de ‘punto’, ‘alto’ y ‘no’, donde el brazo tiene posiciones similares mas no iguales.  \n",
    "\n",
    "Por otra parte, al tener 16 señas distintas, es posible que el modelo tenga dificultades identificando todas las señas, o que se requiera una gran cantidad de datos para entrenar el modelo, lo cual pueda no ser sencillo de conseguir."
   ]
  },
  {
   "cell_type": "markdown",
   "metadata": {},
   "source": [
    "En este sentido, como el objetivo final es que las personas sin conocimiento de las señas y posturas, puedan practicarlas de manera autónoma. Es posible que al momento de lanzar el modelo a producción y dependiendo de la forma de interactuar con el modelo por parte de los usuarios, sea posible diseñar varios modelos con un numero mas bajo de señas y de patrones de movimientos distinto, con el fin de aumentar su precisión al momento de identificar y predecir la seña realizada por la persona. "
   ]
  },
  {
   "cell_type": "markdown",
   "metadata": {},
   "source": [
    "### Bibliografía\n",
    "\n",
    "1. MediaPipe Documentation. 2021 https://google.github.io/mediapipe/solutions/pose.html\n",
    "\n",
    "2. Nicholas Renotte. ActionDetectionforSignLanguage. 2021. https://github.com/nicknochnack/ActionDetectionforSignLanguage\n",
    "\n",
    "3. International Fencing Federation. Reglamento técnico 2021. https://fie.org/fie/documents/rules"
   ]
  },
  {
   "cell_type": "code",
   "execution_count": null,
   "metadata": {},
   "outputs": [],
   "source": []
  }
 ],
 "metadata": {
  "kernelspec": {
   "display_name": "Python 3",
   "language": "python",
   "name": "python3"
  },
  "language_info": {
   "codemirror_mode": {
    "name": "ipython",
    "version": 3
   },
   "file_extension": ".py",
   "mimetype": "text/x-python",
   "name": "python",
   "nbconvert_exporter": "python",
   "pygments_lexer": "ipython3",
   "version": "3.8.10"
  }
 },
 "nbformat": 4,
 "nbformat_minor": 4
}
